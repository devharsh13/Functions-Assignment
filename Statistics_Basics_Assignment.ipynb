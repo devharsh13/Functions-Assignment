{
  "nbformat": 4,
  "nbformat_minor": 0,
  "metadata": {
    "colab": {
      "provenance": []
    },
    "kernelspec": {
      "name": "python3",
      "display_name": "Python 3"
    },
    "language_info": {
      "name": "python"
    }
  },
  "cells": [
    {
      "cell_type": "markdown",
      "source": [
        "## Theoritical Questions"
      ],
      "metadata": {
        "id": "FOcxVfvviBkY"
      }
    },
    {
      "cell_type": "markdown",
      "source": [
        "1. Define descriptive and inferential statistics. Provide examples of each.\n",
        "\n",
        "Answer:\n",
        "Descriptive statistics summarize and describe the characteristics of a dataset using measures like mean, median, mode, standard deviation, and graphs.\n",
        "Example: Finding the average marks of students in a class.\n",
        "\n",
        "Inferential statistics analyze data samples to make generalizations about a population using probability theory, hypothesis testing, and confidence intervals.\n",
        "Example: Predicting election results based on a survey of 1,000 people.\n",
        "\n"
      ],
      "metadata": {
        "id": "_0ev1fL_iBnP"
      }
    },
    {
      "cell_type": "markdown",
      "source": [
        "2. What are measures of central tendency? How do they differ?\n",
        "\n",
        "Answer:\n",
        "Measures of central tendency describe the center of a dataset:\n",
        "\n",
        "Mean: The arithmetic average, sensitive to outliers.\n",
        "\n",
        "Median: The middle value, unaffected by outliers.\n",
        "\n",
        "Mode: The most frequent value, useful for categorical data.\n",
        "\n",
        "For example, in the dataset [10, 10, 20, 30, 40], the mean is 22, median is 20, and mode is 10."
      ],
      "metadata": {
        "id": "6_XDDAZ5iBqH"
      }
    },
    {
      "cell_type": "markdown",
      "source": [
        "3. What is dispersion in statistics? Explain variance and standard deviation.\n",
        "\n",
        "Answer:\n",
        "Dispersion measures how spread out data points are in a dataset.\n",
        "\n",
        "Variance: The average squared difference from the mean.\n",
        "\n",
        "Standard Deviation: The square root of variance, showing how much data deviates from the mean.\n",
        "\n",
        "Example: In a class, if students' marks are close to the mean, the standard deviation is small; if they vary widely, it is large."
      ],
      "metadata": {
        "id": "BuNx5gauiBtL"
      }
    },
    {
      "cell_type": "markdown",
      "source": [
        "4. Explain the difference between population and sample with examples.\n",
        "\n",
        "Answer:\n",
        "\n",
        "Population: The entire group under study.\n",
        "Example: All students in a country.\n",
        "\n",
        "Sample: A subset of the population used for analysis.\n",
        "Example: 500 students surveyed to estimate nationwide exam performance.\n",
        "\n",
        "A sample should be representative of the population to ensure accurate conclusions."
      ],
      "metadata": {
        "id": "0s6Ft7j8iBwI"
      }
    },
    {
      "cell_type": "markdown",
      "source": [
        "5. Define probability and its types with examples.\n",
        "\n",
        "Answer:\n",
        "Probability measures the likelihood of an event occurring.\n",
        "\n",
        "Theoretical Probability: Based on known outcomes.\n",
        "Example: Probability of rolling a 3 on a die is 1/6.\n",
        "\n",
        "Experimental Probability: Based on actual experiments.\n",
        "Example: Flipping a coin 100 times and counting heads.\n",
        "\n",
        "Conditional Probability: The probability of one event given another has occurred.\n",
        "Example: Probability of drawing a king from a deck given the first drawn card was not a king."
      ],
      "metadata": {
        "id": "rderLJ77iBzc"
      }
    },
    {
      "cell_type": "markdown",
      "source": [
        "6. What is a probability distribution? Differentiate between discrete and continuous distributions.\n",
        "\n",
        "Answer:\n",
        "A probability distribution describes how probabilities are assigned to outcomes.\n",
        "\n",
        "Discrete Distribution: Deals with countable outcomes (e.g., rolling a die).\n",
        "\n",
        "Continuous Distribution: Deals with infinite values within a range (e.g., human heights).\n",
        "\n",
        "Example: The number of calls a customer service center receives per hour (discrete) vs. customer waiting times (continuous)."
      ],
      "metadata": {
        "id": "IpZImBmniB2K"
      }
    },
    {
      "cell_type": "markdown",
      "source": [
        "7. What is the normal distribution? List its properties.\n",
        "\n",
        "Answer:\n",
        "The normal distribution is a symmetric, bell-shaped probability distribution characterized by:\n",
        "\n",
        "Mean, median, and mode being equal.\n",
        "\n",
        "68-95-99.7 Rule: 68% of data falls within 1 standard deviation, 95% within 2, and 99.7% within 3.\n",
        "\n",
        "Symmetry: The left and right sides are mirror images.\n",
        "\n",
        "Example: Heights of adults tend to follow a normal distribution."
      ],
      "metadata": {
        "id": "sL1x9VeRiB45"
      }
    },
    {
      "cell_type": "markdown",
      "source": [
        "8. Explain the concept of hypothesis testing.\n",
        "\n",
        "Answer:\n",
        "Hypothesis testing is a statistical method to make inferences about a population using sample data.\n",
        "\n",
        "Steps:\n",
        "\n",
        "Define Null Hypothesis (H₀) (no effect) and Alternative Hypothesis (H₁) (effect present).\n",
        "\n",
        "Choose a significance level (α, typically 0.05).\n",
        "\n",
        "Perform a statistical test (e.g., t-test, chi-square test).\n",
        "\n",
        "Compare the p-value with α. If p < α, reject H₀.\n",
        "\n",
        "Example: Testing whether a new drug is more effective than the existing one."
      ],
      "metadata": {
        "id": "I77krkVBiB77"
      }
    },
    {
      "cell_type": "markdown",
      "source": [
        "9. Define Type I and Type II errors with examples.\n",
        "\n",
        "Answer:\n",
        "\n",
        "Type I Error (False Positive): Rejecting a true null hypothesis.\n",
        "Example: A COVID-19 test wrongly detecting the virus in a healthy person.\n",
        "\n",
        "Type II Error (False Negative): Accepting a false null hypothesis.\n",
        "Example: A pregnancy test failing to detect pregnancy in a pregnant woman."
      ],
      "metadata": {
        "id": "y9R1eTnyiB-w"
      }
    },
    {
      "cell_type": "markdown",
      "source": [
        "10. What are confidence intervals and how are they used?\n",
        "\n",
        "Answer:\n",
        "A confidence interval gives a range within which a population parameter is expected to lie with a certain probability.\n",
        "\n",
        "Example: If a study finds the average IQ of students is 110 with a 95% confidence interval of (108, 112), it means we are 95% confident the true mean IQ lies within this range."
      ],
      "metadata": {
        "id": "GsuSH-ebiCBx"
      }
    },
    {
      "cell_type": "markdown",
      "source": [
        "11. Define correlation and its types.\n",
        "\n",
        "Answer:\n",
        "Correlation measures the relationship between two variables.\n",
        "\n",
        "Positive Correlation: Both variables increase (e.g., study time and exam scores).\n",
        "\n",
        "Negative Correlation: One increases, the other decreases (e.g., speed and travel time).\n",
        "\n",
        "Zero Correlation: No relationship (e.g., height and favorite color).\n",
        "\n",
        "Measured using Pearson’s correlation coefficient (-1 to +1)."
      ],
      "metadata": {
        "id": "doR8ql5AiCEq"
      }
    },
    {
      "cell_type": "markdown",
      "source": [
        "12. What is regression analysis? Explain linear regression.\n",
        "\n",
        "Answer:\n",
        "Regression analysis predicts one variable based on another.\n",
        "\n",
        "Linear Regression: Models the relationship using a straight line y = mx + b, where:\n",
        "\n",
        "m = slope\n",
        "\n",
        "b = intercept\n",
        "\n",
        "Example: Predicting house prices based on size."
      ],
      "metadata": {
        "id": "46U4fOu6iCIO"
      }
    },
    {
      "cell_type": "markdown",
      "source": [
        "13. Differentiate between parametric and non-parametric tests.\n",
        "\n",
        "Answer:\n",
        "\n",
        "Feature\tParametric\tNon-Parametric\n",
        "Assumes normality?\tYes\tNo\n",
        "Uses mean or median?\tMean\tMedian\n",
        "Example\tt-test\tWilcoxon test"
      ],
      "metadata": {
        "id": "P6skzsttiCLP"
      }
    },
    {
      "cell_type": "markdown",
      "source": [
        "14. Explain the Central Limit Theorem.\n",
        "\n",
        "Answer:\n",
        "The Central Limit Theorem states that the distribution of the sample mean approaches a normal distribution as sample size increases, regardless of the original population's distribution.\n",
        "\n",
        "Example: If we repeatedly sample 30 students’ exam scores, the mean of those samples will be normally distributed."
      ],
      "metadata": {
        "id": "tD8CrJ3riCOT"
      }
    },
    {
      "cell_type": "markdown",
      "source": [
        "15. What is an outlier and how is it detected?\n",
        "\n",
        "Answer:\n",
        "An outlier is an extreme value differing from the rest of the data.\n",
        "\n",
        "Detection methods:\n",
        "\n",
        "Z-score: Values beyond ±3 are outliers.\n",
        "\n",
        "IQR Method: Values outside Q1 - 1.5(IQR) and Q3 + 1.5(IQR) are outliers.\n",
        "\n",
        "Example: A student scoring 100 when most score 50-70."
      ],
      "metadata": {
        "id": "Lut0KcP3iCRR"
      }
    },
    {
      "cell_type": "markdown",
      "source": [
        "16. Explain time series analysis.\n",
        "\n",
        "Answer:\n",
        "Time series analysis studies data points collected over time, identifying trends, seasonality, and cycles.\n",
        "\n",
        "Example: Forecasting stock prices or weather patterns."
      ],
      "metadata": {
        "id": "66avhL53iCUj"
      }
    },
    {
      "cell_type": "markdown",
      "source": [
        "17. What is data transformation? Why is it needed?\n",
        "\n",
        "Answer:\n",
        "Data transformation converts raw data into a suitable format.\n",
        "\n",
        "Examples:\n",
        "\n",
        "Normalization: Scaling data between 0 and 1.\n",
        "\n",
        "Log transformation: Reducing skewness.\n",
        "\n",
        "It improves model performance in machine learning"
      ],
      "metadata": {
        "id": "tAHQAS2riCYH"
      }
    },
    {
      "cell_type": "markdown",
      "source": [
        "18. What is skewness in statistics? Explain its types.\n",
        "\n",
        "Answer:\n",
        "Skewness measures the asymmetry of a probability distribution.\n",
        "\n",
        "Positive Skew (Right-skewed): The tail is longer on the right. Example: Income distribution.\n",
        "\n",
        "Negative Skew (Left-skewed): The tail is longer on the left. Example: Students’ exam scores where many score high.\n",
        "\n",
        "Zero Skewness (Symmetric): The distribution is balanced on both sides. Example: Normal distribution."
      ],
      "metadata": {
        "id": "wODkycNRiCbW"
      }
    },
    {
      "cell_type": "markdown",
      "source": [
        "19. What is kurtosis? Explain its types.\n",
        "\n",
        "Answer:\n",
        "Kurtosis measures the \"tailedness\" of a distribution.\n",
        "\n",
        "Mesokurtic (Normal Kurtosis, K = 3): Standard bell-shaped distribution.\n",
        "\n",
        "Leptokurtic (High Kurtosis, K > 3): More extreme outliers (heavy tails). Example: Stock market crashes.\n",
        "\n",
        "Platykurtic (Low Kurtosis, K < 3): Fewer outliers (light tails). Example: Uniform distribution.\n",
        "\n",
        "Kurtosis helps in analyzing risk and deviations in datasets."
      ],
      "metadata": {
        "id": "7TeGhZ7viCeW"
      }
    },
    {
      "cell_type": "markdown",
      "source": [
        "20. What is an ANOVA test? How is it different from a t-test?\n",
        "\n",
        "Answer:\n",
        "ANOVA (Analysis of Variance) tests differences between three or more group means, while a t-test compares two groups.\n",
        "\n",
        "Example:\n",
        "\n",
        "t-test: Comparing heights of male vs. female students.\n",
        "\n",
        "ANOVA: Comparing heights across three schools.\n",
        "\n",
        "ANOVA prevents multiple testing errors that arise from repeated t-tests."
      ],
      "metadata": {
        "id": "0hWxIY7LiChr"
      }
    },
    {
      "cell_type": "markdown",
      "source": [
        "21. Explain the Chi-square test and its applications.\n",
        "\n",
        "Answer:\n",
        "The Chi-square test assesses whether observed categorical data differs from expected values.\n",
        "\n",
        "Types:\n",
        "\n",
        "Chi-square Goodness-of-Fit: Checks if sample data fits a population distribution.\n",
        "\n",
        "Chi-square Test for Independence: Determines if two categorical variables are related.\n",
        "\n",
        "Example: Checking if gender influences preference for a particular soft drink."
      ],
      "metadata": {
        "id": "nWiKR9_DiCkw"
      }
    },
    {
      "cell_type": "markdown",
      "source": [
        "22. What is the difference between correlation and causation?\n",
        "\n",
        "Answer:\n",
        "\n",
        "Correlation: Two variables move together but may not have a cause-effect relationship.\n",
        "Example: Ice cream sales and drowning incidents increase in summer (both are influenced by temperature).\n",
        "\n",
        "Causation: One variable directly affects another.\n",
        "Example: Exercise increases heart rate."
      ],
      "metadata": {
        "id": "XM6GmkjQiCoY"
      }
    },
    {
      "cell_type": "markdown",
      "source": [
        "23. What are Type A and Type B errors in hypothesis testing?\n",
        "\n",
        "Answer:\n",
        "\n",
        "Type A Error (Type I Error): Rejecting a true null hypothesis (False Positive).\n",
        "Example: Diagnosing a healthy person as sick.\n",
        "\n",
        "Type B Error (Type II Error): Failing to reject a false null hypothesis (False Negative).\n",
        "Example: Missing a tumor in a medical test.\n",
        "\n",
        "Reducing errors requires balancing significance levels and sample sizes."
      ],
      "metadata": {
        "id": "kYyRA3piiCrm"
      }
    },
    {
      "cell_type": "markdown",
      "source": [
        "24. Explain Bayesian statistics and its importance.\n",
        "\n",
        "Answer:\n",
        "Bayesian statistics updates probability as more evidence is available. It follows Bayes’ Theorem:\n",
        "\n",
        "𝑃\n",
        "(\n",
        "𝐴\n",
        "∣\n",
        "𝐵\n",
        ")\n",
        "=\n",
        "𝑃\n",
        "(\n",
        "𝐵\n",
        "∣\n",
        "𝐴\n",
        ")\n",
        "𝑃\n",
        "(\n",
        "𝐴\n",
        ")\n",
        "𝑃\n",
        "(\n",
        "𝐵\n",
        ")\n",
        "P(A∣B)=\n",
        "P(B)\n",
        "P(B∣A)P(A)\n",
        "​\n",
        "\n",
        "Example:\n",
        "A medical test is 90% accurate. If a patient tests positive, Bayesian analysis helps estimate the actual probability of having the disease considering prior probabilities.\n",
        "\n",
        "Bayesian methods are widely used in machine learning and spam filtering."
      ],
      "metadata": {
        "id": "oy_HJABziCuu"
      }
    },
    {
      "cell_type": "markdown",
      "source": [
        "## Practical Questions"
      ],
      "metadata": {
        "id": "3HWXQOB8jsFX"
      }
    },
    {
      "cell_type": "code",
      "source": [
        "# 1. How do you calculate the mean, median, and mode of a dataset?\n",
        "import numpy as np\n",
        "from scipy import stats\n",
        "\n",
        "data = [12, 15, 14, 10, 18, 20, 10, 10]\n",
        "\n",
        "mean = np.mean(data)\n",
        "median = np.median(data)\n",
        "mode = stats.mode(data)[0][0]\n",
        "\n",
        "print(\"Mean:\", mean)\n",
        "print(\"Median:\", median)\n",
        "print(\"Mode:\", mode)\n"
      ],
      "metadata": {
        "id": "QHZ0aPsgjqns"
      },
      "execution_count": null,
      "outputs": []
    },
    {
      "cell_type": "code",
      "source": [
        "#2. Compute variance and standard deviation of a dataset\n",
        "variance = np.var(data)\n",
        "std_dev = np.std(data)\n",
        "\n",
        "print(\"Variance:\", variance)\n",
        "print(\"Standard Deviation:\", std_dev)\n"
      ],
      "metadata": {
        "id": "hMc-OFF1jqjq"
      },
      "execution_count": null,
      "outputs": []
    },
    {
      "cell_type": "code",
      "source": [
        "#3. Classify a dataset into nominal, ordinal, interval, and ratio types\n",
        "# Answer:\n",
        "\n",
        "# Type\tExample\n",
        "# Nominal\tColors: Red, Blue, Green\n",
        "# Ordinal\tEducation Levels: Primary, Secondary, Higher\n",
        "# Interval\tTemperature in Celsius (-10°C, 0°C, 20°C)\n",
        "# Ratio\tHeights in cm (0 cm, 50 cm, 100 cm)"
      ],
      "metadata": {
        "id": "bqgmC27pjqgP"
      },
      "execution_count": null,
      "outputs": []
    },
    {
      "cell_type": "code",
      "source": [
        "#4. Implement random and stratified sampling\n",
        "import random\n",
        "\n",
        "sample = random.sample(data, 3)  # Randomly selecting 3 elements\n",
        "print(\"Random Sample:\", sample)\n"
      ],
      "metadata": {
        "id": "QYvQoQXSjqdE"
      },
      "execution_count": null,
      "outputs": []
    },
    {
      "cell_type": "code",
      "source": [
        "#5. Calculate the range of a dataset\n",
        "range_value = max(data) - min(data)\n",
        "print(\"Range:\", range_value)\n"
      ],
      "metadata": {
        "id": "fXqx6ubPjqZg"
      },
      "execution_count": null,
      "outputs": []
    },
    {
      "cell_type": "code",
      "source": [
        "#6. Create a histogram to visualize skewness\n",
        "import matplotlib.pyplot as plt\n",
        "\n",
        "plt.hist(data, bins=5, edgecolor='black')\n",
        "plt.xlabel(\"Value\")\n",
        "plt.ylabel(\"Frequency\")\n",
        "plt.title(\"Histogram of Data\")\n",
        "plt.show()\n"
      ],
      "metadata": {
        "id": "THpas2nkjqWK"
      },
      "execution_count": null,
      "outputs": []
    },
    {
      "cell_type": "code",
      "source": [
        "#7. Calculate skewness and kurtosis of a dataset\n",
        "from scipy.stats import skew, kurtosis\n",
        "\n",
        "skewness = skew(data)\n",
        "kurt = kurtosis(data)\n",
        "\n",
        "print(\"Skewness:\", skewness)\n",
        "print(\"Kurtosis:\", kurt)\n"
      ],
      "metadata": {
        "id": "LpSMJ5tMjqR9"
      },
      "execution_count": null,
      "outputs": []
    },
    {
      "cell_type": "code",
      "source": [
        "#8. Generate a dataset and demonstrate positive and negative skewness\n",
        "import numpy as np\n",
        "\n",
        "# Positively skewed data\n",
        "positive_skew = np.random.exponential(scale=2, size=1000)\n",
        "\n",
        "# Negatively skewed data\n",
        "negative_skew = -np.random.exponential(scale=2, size=1000)\n",
        "\n",
        "plt.hist(positive_skew, bins=20, alpha=0.5, label=\"Positive Skew\")\n",
        "plt.hist(negative_skew, bins=20, alpha=0.5, label=\"Negative Skew\")\n",
        "plt.legend()\n",
        "plt.show()\n"
      ],
      "metadata": {
        "id": "NOzxyAnsjqOO"
      },
      "execution_count": null,
      "outputs": []
    },
    {
      "cell_type": "code",
      "source": [
        "#9. Compute covariance between two datasets\n",
        "\n",
        "x = np.array([10, 20, 30, 40])\n",
        "y = np.array([15, 25, 35, 45])\n",
        "\n",
        "cov_matrix = np.cov(x, y)\n",
        "print(\"Covariance Matrix:\\n\", cov_matrix)\n"
      ],
      "metadata": {
        "id": "sgZfVwAfjqKm"
      },
      "execution_count": null,
      "outputs": []
    },
    {
      "cell_type": "code",
      "source": [
        "#10. Compute correlation coefficient\n",
        "correlation = np.corrcoef(x, y)[0, 1]\n",
        "print(\"Correlation Coefficient:\", correlation)\n"
      ],
      "metadata": {
        "id": "qjsMu8-ujqHc"
      },
      "execution_count": null,
      "outputs": []
    },
    {
      "cell_type": "code",
      "source": [
        "#11. Create a scatter plot to visualize correlation\n",
        "plt.scatter(x, y)\n",
        "plt.xlabel(\"X values\")\n",
        "plt.ylabel(\"Y values\")\n",
        "plt.title(\"Scatter Plot\")\n",
        "plt.show()\n"
      ],
      "metadata": {
        "id": "-hCBXAmEjqEY"
      },
      "execution_count": null,
      "outputs": []
    },
    {
      "cell_type": "code",
      "source": [
        "#12. Implement and compare simple random sampling and systematic sampling\n",
        "import pandas as pd\n",
        "\n",
        "df = pd.DataFrame({'Values': range(1, 101)})\n",
        "\n",
        "# Simple Random Sampling\n",
        "random_sample = df.sample(n=10)\n",
        "print(\"Simple Random Sampling:\\n\", random_sample)\n",
        "\n",
        "# Systematic Sampling (every 10th element)\n",
        "systematic_sample = df.iloc[::10, :]\n",
        "print(\"Systematic Sampling:\\n\", systematic_sample)\n"
      ],
      "metadata": {
        "colab": {
          "base_uri": "https://localhost:8080/"
        },
        "id": "dsjBoKPrjqAM",
        "outputId": "8bc5ef17-8e45-4a92-8e66-f4bf836a0233"
      },
      "execution_count": 1,
      "outputs": [
        {
          "output_type": "stream",
          "name": "stdout",
          "text": [
            "Simple Random Sampling:\n",
            "     Values\n",
            "44      45\n",
            "6        7\n",
            "72      73\n",
            "93      94\n",
            "3        4\n",
            "29      30\n",
            "68      69\n",
            "61      62\n",
            "37      38\n",
            "77      78\n",
            "Systematic Sampling:\n",
            "     Values\n",
            "0        1\n",
            "10      11\n",
            "20      21\n",
            "30      31\n",
            "40      41\n",
            "50      51\n",
            "60      61\n",
            "70      71\n",
            "80      81\n",
            "90      91\n"
          ]
        }
      ]
    },
    {
      "cell_type": "code",
      "source": [
        "#13. Calculate the mean, median, and mode of grouped data\n",
        "data_grouped = [5, 5, 10, 10, 15, 20, 25, 30, 30, 30]\n",
        "print(\"Mean:\", np.mean(data_grouped))\n",
        "print(\"Median:\", np.median(data_grouped))\n",
        "print(\"Mode:\", stats.mode(data_grouped)[0][0])\n"
      ],
      "metadata": {
        "id": "B1mLOe7pjp8U"
      },
      "execution_count": null,
      "outputs": []
    },
    {
      "cell_type": "code",
      "source": [
        "#14. Simulate data using Python and calculate its central tendency and dispersion\n",
        "simulated_data = np.random.normal(50, 10, 1000)  # Mean 50, SD 10\n",
        "print(\"Mean:\", np.mean(simulated_data))\n",
        "print(\"Standard Deviation:\", np.std(simulated_data))\n"
      ],
      "metadata": {
        "id": "XUq6IT-Ljp4x"
      },
      "execution_count": null,
      "outputs": []
    },
    {
      "cell_type": "code",
      "source": [
        "#15. Use NumPy or pandas to summarize a dataset’s descriptive statistics\n",
        "df = pd.DataFrame({'Values': simulated_data})\n",
        "print(df.describe())\n"
      ],
      "metadata": {
        "id": "XTWeHcLpjp0-"
      },
      "execution_count": null,
      "outputs": []
    },
    {
      "cell_type": "code",
      "source": [
        "#16. Plot a boxplot to understand the spread and identify outliers\n",
        "plt.boxplot(simulated_data)\n",
        "plt.title(\"Boxplot\")\n",
        "plt.show()\n"
      ],
      "metadata": {
        "id": "IQDXb_zXjpw2"
      },
      "execution_count": null,
      "outputs": []
    },
    {
      "cell_type": "code",
      "source": [
        "#17. Calculate the interquartile range (IQR) of a dataset\n",
        "Q1 = np.percentile(data, 25)\n",
        "Q3 = np.percentile(data, 75)\n",
        "IQR = Q3 - Q1\n",
        "print(\"Interquartile Range (IQR):\", IQR)\n"
      ],
      "metadata": {
        "id": "H4DZUoiTjpte"
      },
      "execution_count": null,
      "outputs": []
    },
    {
      "cell_type": "code",
      "source": [
        "#18. Implement Z-score normalization and explain its significance\n",
        "z_scores = (data - np.mean(data)) / np.std(data)\n",
        "print(\"Z-Scores:\", z_scores)\n"
      ],
      "metadata": {
        "id": "ENvCyic6jpqW"
      },
      "execution_count": null,
      "outputs": []
    },
    {
      "cell_type": "code",
      "source": [
        "#19. Compare two datasets using their standard deviations\n",
        "dataset1 = np.random.normal(60, 15, 1000)\n",
        "dataset2 = np.random.normal(60, 30, 1000)\n",
        "\n",
        "print(\"Standard Deviation of Dataset 1:\", np.std(dataset1))\n",
        "print(\"Standard Deviation of Dataset 2:\", np.std(dataset2))\n"
      ],
      "metadata": {
        "id": "1SO-DgCFjpmQ"
      },
      "execution_count": null,
      "outputs": []
    },
    {
      "cell_type": "code",
      "source": [
        "#20. Visualize covariance using a heatmap\n",
        "import seaborn as sns\n",
        "\n",
        "df = pd.DataFrame({'A': dataset1, 'B': dataset2})\n",
        "sns.heatmap(df.cov(), annot=True)\n",
        "plt.show()\n"
      ],
      "metadata": {
        "id": "8S5XrP36joRA"
      },
      "execution_count": null,
      "outputs": []
    },
    {
      "cell_type": "code",
      "source": [
        "#21. Use seaborn to create a correlation matrix for a dataset\n",
        "sns.heatmap(df.corr(), annot=True)\n",
        "plt.show()\n"
      ],
      "metadata": {
        "id": "SpnxIzgrjoFA"
      },
      "execution_count": null,
      "outputs": []
    },
    {
      "cell_type": "code",
      "source": [
        "#22. Generate a dataset and implement both variance and standard deviation computations\n",
        "new_data = np.random.randint(10, 100, 50)\n",
        "print(\"Variance:\", np.var(new_data))\n",
        "print(\"Standard Deviation:\", np.std(new_data))\n"
      ],
      "metadata": {
        "id": "9zdb9MMljoBC"
      },
      "execution_count": null,
      "outputs": []
    },
    {
      "cell_type": "code",
      "source": [
        "#23. Visualize skewness and kurtosis using Python libraries\n",
        "sns.histplot(new_data, kde=True)\n",
        "plt.show()\n"
      ],
      "metadata": {
        "id": "0EDh5GQyjn8v"
      },
      "execution_count": null,
      "outputs": []
    },
    {
      "cell_type": "code",
      "source": [
        "#24. Implement Pearson and Spearman correlation coefficients for a dataset\n",
        "from scipy.stats import pearsonr, spearmanr\n",
        "\n",
        "pearson_corr, _ = pearsonr(dataset1, dataset2)\n",
        "spearman_corr, _ = spearmanr(dataset1, dataset2)\n",
        "\n",
        "print(\"Pearson Correlation:\", pearson_corr)\n",
        "print(\"Spearman Correlation:\", spearman_corr)\n"
      ],
      "metadata": {
        "id": "EKhOytwHjn49"
      },
      "execution_count": null,
      "outputs": []
    }
  ]
}