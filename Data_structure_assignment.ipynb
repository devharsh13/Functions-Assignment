{
  "nbformat": 4,
  "nbformat_minor": 0,
  "metadata": {
    "colab": {
      "provenance": []
    },
    "kernelspec": {
      "name": "python3",
      "display_name": "Python 3"
    },
    "language_info": {
      "name": "python"
    }
  },
  "cells": [
    {
      "cell_type": "markdown",
      "source": [
        "##Theoritical Questions"
      ],
      "metadata": {
        "id": "TZjB9hoqGE8R"
      }
    },
    {
      "cell_type": "markdown",
      "source": [
        "Question 1. What are data structures, and why are they important ?\n",
        "\n",
        "Answer. A data structure is a way of organizing, storing, and managing data in a language so that it can be accessed and modified efficiently. It defines the relationship between the data, operations that can be performed on them, and how they are stored in memory."
      ],
      "metadata": {
        "id": "X3KONNSsGOsn"
      }
    },
    {
      "cell_type": "markdown",
      "source": [
        "Question 2. Explain the difference between mutable and immutable data types with examples ?\n",
        "\n",
        "Answer. Mutable data type is a type of data which can be changed or modified after define it. example of mutable data type is list, dictionary.\n",
        "\n",
        "Immutalbe data type is a type of data which can't be changed according to our need . Example of immutable dta type is string, tuple."
      ],
      "metadata": {
        "id": "hvfWj624HCtU"
      }
    },
    {
      "cell_type": "markdown",
      "source": [
        "Question 3. What are the main differences between lists and tuples in Python ?\n",
        "\n",
        "Answer. The main difference between tuple and list is that list is mutable but tuple is immutable . list is represented as [ ], and tuple is represented as ( ).\n"
      ],
      "metadata": {
        "id": "H5QJ6rqYH6ew"
      }
    },
    {
      "cell_type": "markdown",
      "source": [
        "Question 4.  Describe how dictionaries store data ?\n",
        "\n",
        "Answer. Dictionaries stores data in key value pairs.\n",
        "dictionary can be represented as { \"key\" : \"value\" } ."
      ],
      "metadata": {
        "id": "WY5N2Jq2Ia1Y"
      }
    },
    {
      "cell_type": "markdown",
      "source": [
        "Question 5. Why might you use a set instead of a list in Python ?\n",
        "\n",
        "Answer. sets and list both are used to store data but we use set instead of list due to following reason which is given below.\n",
        "\n",
        "1. Sets support mathematical operations like union (|), intersection (&), and difference (-), which lists do not have natively.\n",
        "\n",
        "2. sets stores unique data."
      ],
      "metadata": {
        "id": "XQ63MltKI3ga"
      }
    },
    {
      "cell_type": "markdown",
      "source": [
        "Question 6.  What is a string in Python, and how is it different from a list ?\n",
        "\n",
        "Answer. String is a data type in python which is used to show data . and list is also a data type . we store data in list but not in string in list we can store string data but in string we can't store list.\n"
      ],
      "metadata": {
        "id": "HZ6hjSAUJqaT"
      }
    },
    {
      "cell_type": "markdown",
      "source": [
        "Question 7.  How do tuples ensure data integrity in Python ?\n",
        "\n",
        "Answer. Tuples ensure data integrity in Python by being immutable, meaning their values cannot be changed after creation, preventing accidental modifications. This immutability allows tuples to be used as dictionary keys, ensuring stable key-value mappings, and makes them thread-safe in multi-threaded environments."
      ],
      "metadata": {
        "id": "WxNYhjGtKRD6"
      }
    },
    {
      "cell_type": "markdown",
      "source": [
        "Question 8. What is a hash table, and how does it relate to dictionaries in Python ?\n",
        "\n",
        "Answer. A hash table is a data structure that stores key-value pairs using a hash function to map keys to unique memory locations, allowing for fast data retrieval in O(1) time complexity on average. In Python, the built-in dictionary (dict) is implemented as a hash table, meaning it efficiently stores and retrieves values using hashed keys. When a key-value pair is inserted into a dictionary, Python computes a hash value for the key and determines an index in memory where the value is stored. This enables fast lookups, insertions, and deletions."
      ],
      "metadata": {
        "id": "YkMqpk2sKtax"
      }
    },
    {
      "cell_type": "markdown",
      "source": [
        "Question 9. Can lists contain different data types in Python ?\n",
        "\n",
        "Answer. yes list can take or contains different type of data types in python.\n"
      ],
      "metadata": {
        "id": "Scy4GoigLg99"
      }
    },
    {
      "cell_type": "markdown",
      "source": [
        "Question 10. Explain why strings are immutable in Python ?\n",
        "\n",
        "Answer. string are immutable in python because we can't change or modify the data which we define ."
      ],
      "metadata": {
        "id": "99RGskJ2L0xr"
      }
    },
    {
      "cell_type": "markdown",
      "source": [
        "Question 11. What advantages do dictionaries offer over lists for certain tasks ?\n",
        "\n",
        "Answer. Dictionaries in Python offer significant advantages over lists for specific tasks due to their **hash table-based implementation**, which enables **O(1) average-time complexity** for lookups, compared to **O(n) in lists**. Unlike lists, where elements are accessed by index, dictionaries allow **direct access via meaningful keys**, improving code readability and efficiency. They excel in scenarios requiring **fast searching, structured key-value mappings, and quick modifications** without shifting elements, as lists require. Additionally, dictionaries support **flexible key types**, allowing for more complex data associations, and since Python 3.7, they also **preserve insertion order**, making them versatile for various applications where both speed and structure matter."
      ],
      "metadata": {
        "id": "dNE2dWP7MPxs"
      }
    },
    {
      "cell_type": "markdown",
      "source": [
        "Question 12. Describe a scenario where using a tuple would be preferable over a list ?\n",
        "\n",
        "Answer. A tuple is preferable over a list when you need to store constant, unchangeable data that should remain intact throughout the program. For example, consider a scenario where you are storing GPS coordinates (latitude, longitude) for different cities in a mapping application. Since these coordinates should not change, using a tuple ensures data integrity and prevents accidental modifications. Additionally, tuples are faster and more memory-efficient than lists, making them ideal for large datasets that require quick access."
      ],
      "metadata": {
        "id": "sShIN3uhNAJQ"
      }
    },
    {
      "cell_type": "markdown",
      "source": [
        "Question 13.  How do sets handle duplicate values in Python ?\n",
        "\n",
        "Answer. set handles duplicate value because set is a data type that stores only unique data in python."
      ],
      "metadata": {
        "id": "dqGg4VdwNaaD"
      }
    },
    {
      "cell_type": "markdown",
      "source": [
        "Question 14. How does the “in” keyword work differently for lists and dictionaries ?\n",
        "\n",
        "Answer. The in keyword in Python is used to check membership, but it works differently for lists and dictionaries due to their underlying implementations.\n",
        "\n",
        "For dictionaries, in checks only the keys, not the values, using a hash table (O(1)) on average, making lookups significantly faster. If a key exists, it returns True instantly.\n",
        "\n",
        "Thus, in is much faster for dictionaries than lists when checking for keys, making dictionaries ideal for quick lookups."
      ],
      "metadata": {
        "id": "TwEB1fFgNx6X"
      }
    },
    {
      "cell_type": "markdown",
      "source": [
        "Question 15. Can you modify the elements of a tuple? Explain why or why not ?\n",
        "\n",
        "Answer. No, we can't modify the element of a tuple beacause tuple is immutable type of data. which can't be change after implementation."
      ],
      "metadata": {
        "id": "IXYtUvsQOKoJ"
      }
    },
    {
      "cell_type": "markdown",
      "source": [
        "Question 16. What is a nested dictionary, and give an example of its use case ?\n",
        "\n",
        "Answer. A nested dictionary is a dictionary where the values themselves are dictionaries, creating a hierarchical structure. This allows you to represent more complex relationships and store multi-level data in a structured way."
      ],
      "metadata": {
        "id": "F3ywIdHZOqmt"
      }
    },
    {
      "cell_type": "code",
      "source": [
        "students = {\n",
        "    \"Alice\": {\n",
        "        \"age\": 16,\n",
        "        \"grade\": \"10th\",\n",
        "        \"subjects\": {\n",
        "            \"Math\": 95,\n",
        "            \"Science\": 89,\n",
        "            \"English\": 92\n",
        "        }\n",
        "    },\n",
        "    \"Bob\": {\n",
        "        \"age\": 17,\n",
        "        \"grade\": \"11th\",\n",
        "        \"subjects\": {\n",
        "            \"Math\": 88,\n",
        "            \"History\": 85,\n",
        "            \"Physics\": 90\n",
        "        }\n",
        "    }\n",
        "}\n",
        "\n",
        "\n",
        "print(students[\"Alice\"][\"age\"])  # Output: 16\n",
        "print(students[\"Bob\"][\"subjects\"][\"Math\"])  # Output: 88\n"
      ],
      "metadata": {
        "colab": {
          "base_uri": "https://localhost:8080/"
        },
        "id": "8SVWRj5pPYnD",
        "outputId": "fb070056-12e8-4382-8a8f-78ec18af40df"
      },
      "execution_count": null,
      "outputs": [
        {
          "output_type": "stream",
          "name": "stdout",
          "text": [
            "16\n",
            "88\n"
          ]
        }
      ]
    },
    {
      "cell_type": "markdown",
      "source": [
        "Question 17. Describe the time complexity of accessing elements in a dictionary ?\n",
        "\n",
        "Answer. The time complexity of accessing elements in a dictionary in Python is O(1) on average, which means it takes constant time regardless of the number of elements in the dictionary. This is because Python dictionaries are implemented using hash tables, and when you access an element by its key, the key is hashed to determine its memory location, allowing for immediate retrieval."
      ],
      "metadata": {
        "id": "YecjvxrLQAWL"
      }
    },
    {
      "cell_type": "markdown",
      "source": [
        "Question 18. In what situations are lists preferred over dictionaries ?\n",
        "\n",
        "Answer. Lists are preferred over dictionaries in situations where ordered data or sequential access is important, and you don’t need to associate values with unique keys."
      ],
      "metadata": {
        "id": "lj02VyhjQVky"
      }
    },
    {
      "cell_type": "markdown",
      "source": [
        "Question 19. Why are dictionaries considered unordered, and how does that affect data retrieval ?\n",
        "\n",
        "Answer. Dictionaries in Python are considered unordered because they are implemented as hash tables, where key-value pairs are stored based on a hash function rather than a fixed sequence. This means that, before Python 3.7, dictionaries did not maintain the order of insertion, and retrieving elements could result in an unpredictable sequence. However, from Python 3.7 onwards, dictionaries preserve the order in which items were added, though they are still not considered fully ordered like lists."
      ],
      "metadata": {
        "id": "zQZwVzT-RO6Z"
      }
    },
    {
      "cell_type": "markdown",
      "source": [
        "Question 20.  Explain the difference between a list and a dictionary in terms of data retrieval ?\n",
        "\n",
        "Answer. A **list** is an ordered collection where elements are accessed using numerical indices, enabling **O(1)** retrieval when the index is known. However, searching for a value without an index takes **O(n)** time. In contrast, a **dictionary** stores key-value pairs and retrieves values using keys, offering **O(1)** lookup time due to hashing. Unlike lists, dictionaries do not support positional indexing, but they efficiently handle mappings. Lists are ideal for sequential data, while dictionaries excel in fast lookups and key-based access. Since Python 3.7, dictionaries maintain insertion order, but they remain optimized for retrieval based on keys, not positions."
      ],
      "metadata": {
        "id": "JmUCxY-FdqiB"
      }
    },
    {
      "cell_type": "markdown",
      "source": [
        "##Practical Question"
      ],
      "metadata": {
        "id": "ijbjjT5qeDHc"
      }
    },
    {
      "cell_type": "code",
      "source": [
        "# Question 1.  Write a code to create a string with your name and print it ?\n",
        "\n",
        "name = \"harsh sharma\"\n",
        "print(name)"
      ],
      "metadata": {
        "colab": {
          "base_uri": "https://localhost:8080/"
        },
        "id": "igewLRtfeOFC",
        "outputId": "eaec356f-d6ac-4564-cb93-b9d9f1e73055"
      },
      "execution_count": 1,
      "outputs": [
        {
          "output_type": "stream",
          "name": "stdout",
          "text": [
            "harsh sharma\n"
          ]
        }
      ]
    },
    {
      "cell_type": "code",
      "source": [
        "# Question 2. Write a code to find the length of the string \"Hello World\" ?\n",
        "\n",
        "string = \"Hello World\"\n",
        "print(len(string))"
      ],
      "metadata": {
        "colab": {
          "base_uri": "https://localhost:8080/"
        },
        "id": "LOZ-WlS3evBz",
        "outputId": "2c830fc1-5405-4792-c53d-2361fe6ec135"
      },
      "execution_count": 2,
      "outputs": [
        {
          "output_type": "stream",
          "name": "stdout",
          "text": [
            "11\n"
          ]
        }
      ]
    },
    {
      "cell_type": "code",
      "source": [
        "# Question 3. Write a code to slice the first 3 characters from the string \"Python Programming\" ?\n",
        "\n",
        "string = \"Python Programming\"\n",
        "print(string[0:3])"
      ],
      "metadata": {
        "colab": {
          "base_uri": "https://localhost:8080/"
        },
        "id": "lkZ5Fgrue9s6",
        "outputId": "8a37fee0-f428-4b80-865e-e3b795700e74"
      },
      "execution_count": 3,
      "outputs": [
        {
          "output_type": "stream",
          "name": "stdout",
          "text": [
            "Pyt\n"
          ]
        }
      ]
    },
    {
      "cell_type": "code",
      "source": [
        "# Question 4. Write a code to convert the string \"hello\" to uppercase ?\n",
        "\n",
        "string = \"hello\"\n",
        "print(string.upper())"
      ],
      "metadata": {
        "colab": {
          "base_uri": "https://localhost:8080/"
        },
        "id": "z6U8-H_zfFQm",
        "outputId": "0811ca68-2cc4-4a61-8672-67ec82981c3a"
      },
      "execution_count": 4,
      "outputs": [
        {
          "output_type": "stream",
          "name": "stdout",
          "text": [
            "HELLO\n"
          ]
        }
      ]
    },
    {
      "cell_type": "code",
      "source": [
        "# Question 5. Write a code to replace the word \"apple\" with \"orange\" in the string \"I like apple\" ?\n",
        "\n",
        "string = \"I like apple\"\n",
        "print(string.replace(\"apple\", \"orange\"))"
      ],
      "metadata": {
        "colab": {
          "base_uri": "https://localhost:8080/"
        },
        "id": "8OJC8bHafOhy",
        "outputId": "ca59a50c-9526-4736-bb51-b016783acd3b"
      },
      "execution_count": 6,
      "outputs": [
        {
          "output_type": "stream",
          "name": "stdout",
          "text": [
            "I like orange\n"
          ]
        }
      ]
    },
    {
      "cell_type": "code",
      "source": [
        "# Question 6. Write a code to create a list with numbers 1 to 5 and print it ?\n",
        "\n",
        "list1 = [1, 2, 3, 4, 5]\n",
        "print(list1)"
      ],
      "metadata": {
        "colab": {
          "base_uri": "https://localhost:8080/"
        },
        "id": "oYJVDMG2fYnT",
        "outputId": "b8081cf8-4a16-4fc1-9c36-1689ee1b514f"
      },
      "execution_count": 7,
      "outputs": [
        {
          "output_type": "stream",
          "name": "stdout",
          "text": [
            "[1, 2, 3, 4, 5]\n"
          ]
        }
      ]
    },
    {
      "cell_type": "code",
      "source": [
        "# Question 7. Write a code to append the number 10 to the list [1, 2, 3, 4] ?\n",
        "\n",
        "list1 = [1, 2, 3, 4]\n",
        "list1.append(10)\n",
        "print(list1)"
      ],
      "metadata": {
        "colab": {
          "base_uri": "https://localhost:8080/"
        },
        "id": "0VJ_F0Abfv-N",
        "outputId": "63df84f6-2634-46d8-dda3-eb60fec5ec5a"
      },
      "execution_count": 8,
      "outputs": [
        {
          "output_type": "stream",
          "name": "stdout",
          "text": [
            "[1, 2, 3, 4, 10]\n"
          ]
        }
      ]
    },
    {
      "cell_type": "code",
      "source": [
        "# Question 8. Write a code to remove the number 3 from the list [1, 2, 3, 4, 5] ?\n",
        "\n",
        "list1 = [1, 2, 3, 4, 5]\n",
        "list1.remove(3)\n",
        "print(list1)"
      ],
      "metadata": {
        "colab": {
          "base_uri": "https://localhost:8080/"
        },
        "id": "GlRFxyBWf3qq",
        "outputId": "9a0733a6-865b-469b-9bb4-b7f266dc0b25"
      },
      "execution_count": 9,
      "outputs": [
        {
          "output_type": "stream",
          "name": "stdout",
          "text": [
            "[1, 2, 4, 5]\n"
          ]
        }
      ]
    },
    {
      "cell_type": "code",
      "source": [
        "# Question 9. Write a code to access the second element in the list ['a', 'b', 'c', 'd'] ?\n",
        "\n",
        "list1 = ['a', 'b', 'c', 'd']\n",
        "list1[1]"
      ],
      "metadata": {
        "colab": {
          "base_uri": "https://localhost:8080/",
          "height": 35
        },
        "id": "IqRlnRn0gA_t",
        "outputId": "e8d2a383-fe6a-47cf-902a-6fc8075940fd"
      },
      "execution_count": 10,
      "outputs": [
        {
          "output_type": "execute_result",
          "data": {
            "text/plain": [
              "'b'"
            ],
            "application/vnd.google.colaboratory.intrinsic+json": {
              "type": "string"
            }
          },
          "metadata": {},
          "execution_count": 10
        }
      ]
    },
    {
      "cell_type": "code",
      "source": [
        "# Question 10. Write a code to reverse the list [10, 20, 30, 40, 50] ?\n",
        "\n",
        "list1 = [10, 20, 30, 40, 50]\n",
        "list1.reverse()\n",
        "print(list1)\n"
      ],
      "metadata": {
        "colab": {
          "base_uri": "https://localhost:8080/"
        },
        "id": "rstvZv0pgSiQ",
        "outputId": "9074489a-4231-4a86-f719-9f76b39c1507"
      },
      "execution_count": 11,
      "outputs": [
        {
          "output_type": "stream",
          "name": "stdout",
          "text": [
            "[50, 40, 30, 20, 10]\n"
          ]
        }
      ]
    },
    {
      "cell_type": "code",
      "source": [
        "# Question 11. Write a code to create a tuple with the elements 100, 200, 300 and print it ?\n",
        "\n",
        "Tuple = (100, 200, 300)\n",
        "print(Tuple)"
      ],
      "metadata": {
        "colab": {
          "base_uri": "https://localhost:8080/"
        },
        "id": "x6_YTf4Igmn2",
        "outputId": "cf1dd48f-2370-47fe-c4ee-df46abf8e2f7"
      },
      "execution_count": 12,
      "outputs": [
        {
          "output_type": "stream",
          "name": "stdout",
          "text": [
            "(100, 200, 300)\n"
          ]
        }
      ]
    },
    {
      "cell_type": "code",
      "source": [
        "# Question 12. Write a code to access the second-to-last element of the tuple ('red', 'green', 'blue', 'yellow') ?\n",
        "\n",
        "Tuple = ('red', 'green', 'blue', 'yellow')\n",
        "Tuple[-2]"
      ],
      "metadata": {
        "colab": {
          "base_uri": "https://localhost:8080/",
          "height": 35
        },
        "id": "3UVxgW8Ag03m",
        "outputId": "37f5e1d6-ad86-4926-9004-d66750f89e0c"
      },
      "execution_count": 13,
      "outputs": [
        {
          "output_type": "execute_result",
          "data": {
            "text/plain": [
              "'blue'"
            ],
            "application/vnd.google.colaboratory.intrinsic+json": {
              "type": "string"
            }
          },
          "metadata": {},
          "execution_count": 13
        }
      ]
    },
    {
      "cell_type": "code",
      "source": [
        "# Question 13. Write a code to find the minimum number in the tuple (10, 20, 5, 15) ?\n",
        "\n",
        "Tuple = (10, 20, 5, 15)\n",
        "print(min(Tuple))"
      ],
      "metadata": {
        "colab": {
          "base_uri": "https://localhost:8080/"
        },
        "id": "iyPVe1wqg9j5",
        "outputId": "b7d0a847-24e8-47c0-d7b1-3115ff047552"
      },
      "execution_count": 14,
      "outputs": [
        {
          "output_type": "stream",
          "name": "stdout",
          "text": [
            "5\n"
          ]
        }
      ]
    },
    {
      "cell_type": "code",
      "source": [
        "# Question 14. Write a code to find the index of the element \"cat\" in the tuple ('dog', 'cat', 'rabbit') ?\n",
        "\n",
        "Tuple = ('dog', 'cat', 'rabbit')\n",
        "Tuple.index('cat')"
      ],
      "metadata": {
        "colab": {
          "base_uri": "https://localhost:8080/"
        },
        "id": "hoKInGf-hEXA",
        "outputId": "e82cfa4a-4085-4c3b-80ad-c7f0dd28c4b6"
      },
      "execution_count": 15,
      "outputs": [
        {
          "output_type": "execute_result",
          "data": {
            "text/plain": [
              "1"
            ]
          },
          "metadata": {},
          "execution_count": 15
        }
      ]
    },
    {
      "cell_type": "code",
      "source": [
        "# Question 15. Write a code to create a tuple containing three different fruits and check if \"kiwi\" is in it ?\n",
        "\n",
        "Tuple = ('apple', 'banana', 'orange')\n",
        "print('kiwi' in Tuple)\n",
        "# Question 18. Write a code to remove the element 4 from the set {1, 2, 3, 4} ?\n",
        "\n",
        "# Question 19. Write a code to find the union of two sets {1, 2, 3} and {3, 4, 5} ?\n",
        "\n",
        "# Question 20. Write a code to find the intersection of two sets {1, 2, 3} and {2, 3, 4} ?\n",
        "\n",
        "# Question 21. Write a code to create a dictionary with the keys \"name\", \"age\", and \"city\", and print it ?\n",
        "\n",
        "# Question 22. Write a code to add a new key-value pair \"country\": \"USA\" to the dictionary {'name': 'John', 'age': 25} ?\n",
        "\n",
        "# Question 23. Write a code to access the value associated with the key \"name\" in the dictionary {'name': 'Alice', 'age': 30} ?\n",
        "\n",
        "# Question 24. Write a code to remove the key \"age\" from the dictionary {'name': 'Bob', 'age': 22, 'city': 'New York'} ?\n",
        "\n",
        "# 25. Write a code to check if the key \"city\" exists in the dictionary {'name': 'Alice', 'city': 'Paris'} ?\n",
        "\n",
        "# Question 26. Write a code to create a list, a tuple, and a dictionary, and print them all ?\n",
        "\n",
        "# Question 27. Write a code to create a list of 5 random numbers between 1 and 100, sort it in ascending order, and print the result.(replaced) ?\n",
        "\n",
        "# Question 28. Write a code to create a list with strings and print the element at the third index ?\n",
        "\n",
        "# Question 29. Write a code to combine two dictionaries into one and print the result ?\n",
        "\n",
        "# Question 30. Write a code to convert a list of strings into a set ?"
      ],
      "metadata": {
        "colab": {
          "base_uri": "https://localhost:8080/"
        },
        "id": "AiXEsteNhMRj",
        "outputId": "f12a7c04-1885-4eb0-82c4-7424bbd6e051"
      },
      "execution_count": 16,
      "outputs": [
        {
          "output_type": "stream",
          "name": "stdout",
          "text": [
            "False\n"
          ]
        }
      ]
    },
    {
      "cell_type": "code",
      "source": [
        "# Question 16. Write a code to create a set with the elements 'a', 'b', 'c' and print it ?\n",
        "\n",
        "set1 = {'a', 'b', 'c'}\n",
        "print(set1)"
      ],
      "metadata": {
        "colab": {
          "base_uri": "https://localhost:8080/"
        },
        "id": "HkPRbI0-h75w",
        "outputId": "8cf9008e-887f-40dd-f4e3-bc192944a534"
      },
      "execution_count": 17,
      "outputs": [
        {
          "output_type": "stream",
          "name": "stdout",
          "text": [
            "{'a', 'b', 'c'}\n"
          ]
        }
      ]
    },
    {
      "cell_type": "code",
      "source": [
        "# Question 17. Write a code to clear all elements from the set {1, 2, 3, 4, 5} ?\n",
        "\n",
        "set1 = {1, 2, 3, 4, 5}\n",
        "set1.clear()\n",
        "print(set1)"
      ],
      "metadata": {
        "colab": {
          "base_uri": "https://localhost:8080/"
        },
        "id": "kUxYqBjZh_2p",
        "outputId": "a5d3e208-b9b9-4a09-d5b7-ac5f7733f049"
      },
      "execution_count": 18,
      "outputs": [
        {
          "output_type": "stream",
          "name": "stdout",
          "text": [
            "set()\n"
          ]
        }
      ]
    },
    {
      "cell_type": "code",
      "source": [
        "# Question 18. Write a code to remove the element 4 from the set {1, 2, 3, 4} ?\n",
        "\n",
        "set1 = {1, 2, 3, 4}\n",
        "set1.remove(4)\n",
        "print(set1)"
      ],
      "metadata": {
        "colab": {
          "base_uri": "https://localhost:8080/"
        },
        "id": "1ARi1pJ2iEdN",
        "outputId": "f05e4f55-b738-468a-f495-a544d94c2c79"
      },
      "execution_count": 19,
      "outputs": [
        {
          "output_type": "stream",
          "name": "stdout",
          "text": [
            "{1, 2, 3}\n"
          ]
        }
      ]
    },
    {
      "cell_type": "code",
      "source": [
        "# Question 19. Write a code to find the union of two sets {1, 2, 3} and {3, 4, 5} ?\n",
        "\n",
        "set1 = {1, 2, 3}\n",
        "set2 = {3, 4, 5}\n",
        "print(set1.union(set2))"
      ],
      "metadata": {
        "colab": {
          "base_uri": "https://localhost:8080/"
        },
        "id": "HeBjcDPMiIpx",
        "outputId": "8637135a-4b01-4340-b554-20f4dd6b9637"
      },
      "execution_count": 20,
      "outputs": [
        {
          "output_type": "stream",
          "name": "stdout",
          "text": [
            "{1, 2, 3, 4, 5}\n"
          ]
        }
      ]
    },
    {
      "cell_type": "code",
      "source": [
        "# Question 20. Write a code to find the intersection of two sets {1, 2, 3} and {2, 3, 4} ?\n",
        "\n",
        "set1 = {1, 2, 3}\n",
        "set2 = {3, 4, 5}\n",
        "print(set1.intersection(set2))"
      ],
      "metadata": {
        "colab": {
          "base_uri": "https://localhost:8080/"
        },
        "id": "51qpeIH8iMxf",
        "outputId": "c59caff1-e2b6-45bf-a3d2-5e0b51045027"
      },
      "execution_count": 21,
      "outputs": [
        {
          "output_type": "stream",
          "name": "stdout",
          "text": [
            "{3}\n"
          ]
        }
      ]
    },
    {
      "cell_type": "code",
      "source": [
        "# Question 21. Write a code to create a dictionary with the keys \"name\", \"age\", and \"city\", and print it ?\n",
        "\n",
        "dic = {\"name\" : \"harsh\", \"age\" : 20, \"city\" : \"delhi\"}\n",
        "print(dic)"
      ],
      "metadata": {
        "colab": {
          "base_uri": "https://localhost:8080/"
        },
        "id": "cUypOPSJiXB2",
        "outputId": "3fc567b5-12d8-4294-b833-18f5f1769d51"
      },
      "execution_count": 22,
      "outputs": [
        {
          "output_type": "stream",
          "name": "stdout",
          "text": [
            "{'name': 'harsh', 'age': 20, 'city': 'delhi'}\n"
          ]
        }
      ]
    },
    {
      "cell_type": "code",
      "source": [
        "# Question 22. Write a code to add a new key-value pair \"country\": \"USA\" to the dictionary {'name': 'John', 'age': 25} ?\n",
        "\n",
        "dic = {'name': 'John', 'age': 25}\n",
        "dic[\"country\"] = \"USA\"\n",
        "print(dic)"
      ],
      "metadata": {
        "colab": {
          "base_uri": "https://localhost:8080/"
        },
        "id": "UShhfEMYiegt",
        "outputId": "c8851fc2-f40c-47c8-d8c6-c93839b4411d"
      },
      "execution_count": 23,
      "outputs": [
        {
          "output_type": "stream",
          "name": "stdout",
          "text": [
            "{'name': 'John', 'age': 25, 'country': 'USA'}\n"
          ]
        }
      ]
    },
    {
      "cell_type": "code",
      "source": [
        "# Question 23. Write a code to access the value associated with the key \"name\" in the dictionary {'name': 'Alice', 'age': 30} ?\n",
        "\n",
        "dic = {'name': 'Alice', 'age': 30}\n",
        "print(dic[\"name\"])"
      ],
      "metadata": {
        "colab": {
          "base_uri": "https://localhost:8080/"
        },
        "id": "rjG7uox4iii7",
        "outputId": "6f984e42-5142-4855-f9cb-2aa171878263"
      },
      "execution_count": 24,
      "outputs": [
        {
          "output_type": "stream",
          "name": "stdout",
          "text": [
            "Alice\n"
          ]
        }
      ]
    },
    {
      "cell_type": "code",
      "source": [
        "# Question 24. Write a code to remove the key \"age\" from the dictionary {'name': 'Bob', 'age': 22, 'city': 'New York'} ?\n",
        "\n",
        "dic = {'name': 'Bob', 'age': 22, 'city': 'New York'}\n",
        "dic.pop(\"age\")\n",
        "print(dic)"
      ],
      "metadata": {
        "colab": {
          "base_uri": "https://localhost:8080/"
        },
        "id": "WAOLmIFHimbs",
        "outputId": "4151e517-c077-4490-810f-0b6c28fc1eef"
      },
      "execution_count": 25,
      "outputs": [
        {
          "output_type": "stream",
          "name": "stdout",
          "text": [
            "{'name': 'Bob', 'city': 'New York'}\n"
          ]
        }
      ]
    },
    {
      "cell_type": "code",
      "source": [
        "# Question 25. Write a code to check if the key \"city\" exists in the dictionary {'name': 'Alice', 'city': 'Paris'} ?\n",
        "\n",
        "dic = {'name': 'Alice', 'city': 'Paris'}\n",
        "print(\"city\" in dic)"
      ],
      "metadata": {
        "colab": {
          "base_uri": "https://localhost:8080/"
        },
        "id": "H6O0UQPQiqn3",
        "outputId": "f261091f-aca3-4336-9a4a-983fd27b05f1"
      },
      "execution_count": 26,
      "outputs": [
        {
          "output_type": "stream",
          "name": "stdout",
          "text": [
            "True\n"
          ]
        }
      ]
    },
    {
      "cell_type": "code",
      "source": [
        "# Question 26. Write a code to create a list, a tuple, and a dictionary, and print them all ?\n",
        "\n",
        "list1 = [1, 2, 3, 4, 5]\n",
        "Tuple = (1, 2, 3, 4, 5)\n",
        "dic = {\"name\" : \"harsh\", \"age\" : 20, \"city\" : \"delhi\"}\n",
        "print(list1)\n",
        "print(Tuple)\n",
        "print(dic)"
      ],
      "metadata": {
        "colab": {
          "base_uri": "https://localhost:8080/"
        },
        "id": "nN5ukUmuixDI",
        "outputId": "3c699862-2b14-4af3-8d30-4d2db5996198"
      },
      "execution_count": 27,
      "outputs": [
        {
          "output_type": "stream",
          "name": "stdout",
          "text": [
            "[1, 2, 3, 4, 5]\n",
            "(1, 2, 3, 4, 5)\n",
            "{'name': 'harsh', 'age': 20, 'city': 'delhi'}\n"
          ]
        }
      ]
    },
    {
      "cell_type": "code",
      "source": [
        "# Question 27. Write a code to create a list of 5 random numbers between 1 and 100, sort it in ascending order, and print the result.(replaced) ?\n",
        "\n",
        "lis = [99, 228, 69, 40, 5]\n",
        "lis.sort()\n",
        "print(lis)"
      ],
      "metadata": {
        "colab": {
          "base_uri": "https://localhost:8080/"
        },
        "id": "H657FcxDi3P3",
        "outputId": "8fb0c2ba-9322-46dc-98be-999a198911e0"
      },
      "execution_count": 29,
      "outputs": [
        {
          "output_type": "stream",
          "name": "stdout",
          "text": [
            "[5, 40, 69, 99, 228]\n"
          ]
        }
      ]
    },
    {
      "cell_type": "code",
      "source": [
        "# Question 28. Write a code to create a list with strings and print the element at the third index ?\n",
        "\n",
        "list1 = [\"harsh\", \"sharma\", \"is\", \"a\", \"good\", \"boy\"]\n",
        "print(list1[3])"
      ],
      "metadata": {
        "colab": {
          "base_uri": "https://localhost:8080/"
        },
        "id": "IQ0sLA_QjDZf",
        "outputId": "1cdc9547-d308-4edf-dee3-18d823005de9"
      },
      "execution_count": 30,
      "outputs": [
        {
          "output_type": "stream",
          "name": "stdout",
          "text": [
            "a\n"
          ]
        }
      ]
    },
    {
      "cell_type": "code",
      "source": [
        "# Question 29. Write a code to combine two dictionaries into one and print the result ?\n",
        "\n",
        "dic1 = {\"name\" : \"harsh\", \"age\" : 20, \"city\" : \"delhi\"}\n",
        "dic2 = {\"name\" : \"vijay\", \"age\" : 30, \"city\" : \"agra\"}\n",
        "dic3 = dic1.copy()\n",
        "dic3.update(dic2)\n",
        "print(dic3)"
      ],
      "metadata": {
        "colab": {
          "base_uri": "https://localhost:8080/"
        },
        "id": "d2RSFruUjbN9",
        "outputId": "b3478612-e559-45ec-c903-b98760a0a75b"
      },
      "execution_count": 35,
      "outputs": [
        {
          "output_type": "stream",
          "name": "stdout",
          "text": [
            "{'name': 'vijay', 'age': 30, 'city': 'agra'}\n"
          ]
        }
      ]
    },
    {
      "cell_type": "code",
      "source": [
        "# Question 30. Write a code to convert a list of strings into a set ?\n",
        "\n",
        "list1 = [\"harsh\", \"vijay\", \"aman\", \"raju\"]\n",
        "print(set(list1))"
      ],
      "metadata": {
        "colab": {
          "base_uri": "https://localhost:8080/"
        },
        "id": "uLLwBv_Cjggs",
        "outputId": "ae1f54a4-795b-47eb-a4ba-1afdc0768d7d"
      },
      "execution_count": 36,
      "outputs": [
        {
          "output_type": "stream",
          "name": "stdout",
          "text": [
            "{'harsh', 'aman', 'vijay', 'raju'}\n"
          ]
        }
      ]
    },
    {
      "cell_type": "code",
      "source": [],
      "metadata": {
        "id": "0P-ktRqekg4I"
      },
      "execution_count": null,
      "outputs": []
    }
  ]
}