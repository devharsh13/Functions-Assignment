{
  "nbformat": 4,
  "nbformat_minor": 0,
  "metadata": {
    "colab": {
      "provenance": []
    },
    "kernelspec": {
      "name": "python3",
      "display_name": "Python 3"
    },
    "language_info": {
      "name": "python"
    }
  },
  "cells": [
    {
      "cell_type": "markdown",
      "source": [
        "##Therotical Questions"
      ],
      "metadata": {
        "id": "UHBLIGGn834v"
      }
    },
    {
      "cell_type": "markdown",
      "source": [
        "Question 1. What is Object-Oriented Programming (OOP) ?\n",
        "\n",
        "Answer. object oriented programming which we calls oops . it is a important part of any programming language . it is used to improve and make easy going code for our projects . By using oops we can get security for our code . there is also functions in oops which we called method in oops and there is also obejcts and a new thing which is class . this class is a main thing in our oops.\n"
      ],
      "metadata": {
        "id": "59cfPXfW8_sq"
      }
    },
    {
      "cell_type": "markdown",
      "source": [
        "Question 2. What is a class in OOP ?\n",
        "\n",
        "Answer. class is a blueprint or template for creating an object in oops.\n",
        "\n"
      ],
      "metadata": {
        "id": "aAWolXTQ-FJM"
      }
    },
    {
      "cell_type": "markdown",
      "source": [
        "Question 3. What is an object in OOP ?\n",
        "\n",
        "Answer. object is very important thing in oops . By using objects we can access class in oops . it is a method by which we define any class and method by making variable of it ."
      ],
      "metadata": {
        "id": "vxP9vQjr-f57"
      }
    },
    {
      "cell_type": "markdown",
      "source": [
        "Question 4. What is the difference between abstraction and encapsulation ?\n",
        "\n",
        "Answer. Abstraction is the process of hiding complex implementation details and only showing the necessary functionality to the user.\n",
        "\n",
        "Encapsulation is the process of restricting direct access to an object's data and only allowing modifications through methods."
      ],
      "metadata": {
        "id": "8SpjvY33_KHD"
      }
    },
    {
      "cell_type": "markdown",
      "source": [
        "Question 5. What are dunder methods in Python ?\n",
        "\n",
        "Answer. Dunder ( __ ) methods are special predefined methods in Python that have double underscores (__) before and after their names.\n",
        "\n",
        "Examples: __init__ , __str__ , and __repr__ ."
      ],
      "metadata": {
        "id": "Bvzd8Y-0BgF1"
      }
    },
    {
      "cell_type": "markdown",
      "source": [
        "Question 6. Explain the concept of inheritance in OOP ?\n",
        "\n",
        "Answer. Inheritance is the mechanism in OOP that allows a class to derive properties and behavior from another class.\n",
        "\n",
        "It enables code reuse and hierarchy creation. also like parents and children."
      ],
      "metadata": {
        "id": "slbH6IglBgCc"
      }
    },
    {
      "cell_type": "markdown",
      "source": [
        "Question 7. What is polymorphism in OOP ?\n",
        "\n",
        "Answer. Polymorphism means \"many forms\".\n",
        "\n",
        "It allows a single function or method to work with different data types or classes."
      ],
      "metadata": {
        "id": "tOmC7pYlBf-3"
      }
    },
    {
      "cell_type": "markdown",
      "source": [
        "Question 8. How is encapsulation achieved in Python?\n",
        "\n",
        "Answer. Encapsulation is achieved using private (__), protected (_), and public variables.\n",
        "It helps in dat\n",
        "a security and prevents accidental modification."
      ],
      "metadata": {
        "id": "H2ef8TCjBf75"
      }
    },
    {
      "cell_type": "markdown",
      "source": [
        "Question 9. What is a constructor in Python?\n",
        "\n",
        "Answer. A constructor is a special method (__init__()) that gets called automatically when an object is created.\n",
        "\n",
        "It is used to initialize object attributes."
      ],
      "metadata": {
        "id": "u6SvrRwvBf4f"
      }
    },
    {
      "cell_type": "markdown",
      "source": [
        "Question 10. What are class and static methods in Python?\n",
        "\n",
        "Answer. Class Methods (@classmethod): Work with class-level data and take cls as the first argument.\n",
        "\n",
        "Static Methods (@staticmethod): Do not depend on class or instance attributes."
      ],
      "metadata": {
        "id": "vc3oNtVeBf1L"
      }
    },
    {
      "cell_type": "markdown",
      "source": [
        "Question 11. What is method overloading in Python?\n",
        "\n",
        "Answer. Python does not support traditional method overloading.\n",
        "\n",
        "Instead, default arguments can be used to handle multiple parameters in a single method."
      ],
      "metadata": {
        "id": "kV7Uzai7BfyE"
      }
    },
    {
      "cell_type": "markdown",
      "source": [
        "Question 12. What is method overriding in OOP?\n",
        "\n",
        "Answer. Method overriding occurs when a child class provides a new implementation for a method already defined in the parent class."
      ],
      "metadata": {
        "id": "W6Gad4GGBfu7"
      }
    },
    {
      "cell_type": "markdown",
      "source": [
        "Question 13. What is a property decorator in Python?\n",
        "\n",
        "Answer. The @property decorator is used to make a method behave like an attribute.\n",
        "\n",
        "It allows getter, setter, and deleter functions to control access to attributes."
      ],
      "metadata": {
        "id": "gvPLxYprBfr-"
      }
    },
    {
      "cell_type": "markdown",
      "source": [
        "Question 14. Why is polymorphism important in OOP?\n",
        "\n",
        "Answer. Polymorphism increases flexibility and maintainability by allowing a single interface to handle different data types."
      ],
      "metadata": {
        "id": "4qKoNFg5DCki"
      }
    },
    {
      "cell_type": "markdown",
      "source": [
        "Question 15. What is an abstract class in Python?\n",
        "\n",
        "Answer. An abstract class is a class that cannot be instantiated and contains at least one abstract method.\n",
        "\n",
        "It is used to define a common interface for multiple subclasses."
      ],
      "metadata": {
        "id": "sZDSLoH3DCha"
      }
    },
    {
      "cell_type": "markdown",
      "source": [
        "Question 16. What are the advantages of OOP ?\n",
        "\n",
        "Answer. Code Reusability: Inheritance allows using existing code in new classes.\n",
        "\n",
        "Data Security: Encapsulation prevents unauthorized access.\n",
        "\n",
        "Modularity: Code is structured into small units (classes).\n",
        "\n",
        "Flexibility: Polymorphism enables a single interface for multiple functionalities."
      ],
      "metadata": {
        "id": "chFhD9KpDCeM"
      }
    },
    {
      "cell_type": "markdown",
      "source": [
        "Question 17.  What is the difference between a class variable and an instance variable ?\n",
        "\n",
        "Answer. Class Variable: Shared among all instances of a class.\n",
        "\n",
        "Instance Variable: Unique to each object."
      ],
      "metadata": {
        "id": "x46d_GRLDCa6"
      }
    },
    {
      "cell_type": "markdown",
      "source": [
        "Question 18. What is multiple inheritance in Python ?\n",
        "\n",
        "Answer. Multiple inheritance allows a class to inherit from multiple parent classes.\n",
        "\n",
        "It enables code reuse but can lead to the \"Diamond Problem\" (conflicting methods from different parents)."
      ],
      "metadata": {
        "id": "xGTgTyxWDCXZ"
      }
    },
    {
      "cell_type": "markdown",
      "source": [
        "Question 19.  Explain the purpose of ‘’__str__’ and ‘__repr__’ ‘ methods in Python ?\n",
        "\n",
        "Answer. __str__: Returns a user-friendly string representation.\n",
        "\n",
        "__repr__: Returns a detailed and unambiguous representation (used for debugging)."
      ],
      "metadata": {
        "id": "N0DFIk-bDCS_"
      }
    },
    {
      "cell_type": "markdown",
      "source": [
        "Question 20. What is the significance of the ‘super()’ function in Python ?\n",
        "\n",
        "Answer. The super() function calls the parent class method inside a child class.\n",
        "\n",
        "It is used for method overriding."
      ],
      "metadata": {
        "id": "qjiOlwyMDCOO"
      }
    },
    {
      "cell_type": "markdown",
      "source": [
        "Question 21. What is the significance of the __del__ method in Python ?\n",
        "\n",
        "Answer. The __del__ method is called when an object is deleted.\n",
        "\n",
        "It is used for clean-up tasks like closing files or releasing resources."
      ],
      "metadata": {
        "id": "vRxW-upcDCJ7"
      }
    },
    {
      "cell_type": "markdown",
      "source": [
        "Question 22. What is the difference between @staticmethod and @classmethod in Python ?\n",
        "\n",
        "Answer. Static Method (@staticmethod): Does not access class attributes or instance attributes.\n",
        "\n",
        "Class Method (@classmethod): Works with class-level attributes and takes cls as the first argument."
      ],
      "metadata": {
        "id": "sghS4tG_DCFq"
      }
    },
    {
      "cell_type": "markdown",
      "source": [
        "Question 23. How does polymorphism work in Python with inheritance ?\n",
        "\n",
        "\n",
        "Answer. A child class can override a method of the parent class and provide its own version.\n",
        "\n",
        "It allows a single method name to work differently in different classes."
      ],
      "metadata": {
        "id": "oj04U7rODCCC"
      }
    },
    {
      "cell_type": "markdown",
      "source": [
        "Question 24. What is method chaining in Python OOP ?\n",
        "\n",
        "Answer. Method chaining allows calling multiple methods on the same object in a single line.\n",
        "\n",
        "It reduces redundant code."
      ],
      "metadata": {
        "id": "kXHHimNZDB-q"
      }
    },
    {
      "cell_type": "markdown",
      "source": [
        "Question 25. What is the purpose of the __call__ method in Python ?\n",
        "\n",
        "Answer. The __call__ method allows an object to be used like a function.\n",
        "\n",
        "It is used in function-like classes.\n"
      ],
      "metadata": {
        "id": "CyB6ExIxDB67"
      }
    },
    {
      "cell_type": "markdown",
      "source": [
        "# Practical Questions"
      ],
      "metadata": {
        "id": "aZ1OOXbNDB3o"
      }
    },
    {
      "cell_type": "code",
      "source": [
        "# Question 1. Create a parent class Animal with a method speak() that prints a generic message. Create a child class Dog\n",
        "#that overrides the speak() method to print \"Bark!\" ?\n",
        "\n",
        "# Parent class\n",
        "class Animal:\n",
        "    def speak(self):\n",
        "        print(\"Animal makes a sound\")\n",
        "\n",
        "# Child class\n",
        "class Dog(Animal):\n",
        "    def speak(self):\n",
        "        print(\"Bark!\")\n",
        "\n",
        "# Creating objects\n",
        "animal = Animal()\n",
        "dog = Dog()\n",
        "\n",
        "# Calling the speak() method\n",
        "animal.speak()  # Output: Animal makes a sound\n",
        "dog.speak()     # Output: Bark!\n"
      ],
      "metadata": {
        "colab": {
          "base_uri": "https://localhost:8080/"
        },
        "id": "hdiZjzIfFFHQ",
        "outputId": "cc170182-83b2-4e2b-9c3c-69f1f500b9b6"
      },
      "execution_count": 1,
      "outputs": [
        {
          "output_type": "stream",
          "name": "stdout",
          "text": [
            "Animal makes a sound\n",
            "Bark!\n"
          ]
        }
      ]
    },
    {
      "cell_type": "code",
      "source": [
        "# Question 2. Write a program to create an abstract class Shape with a method area(). Derive classes Circle and Rectangle\n",
        "#from it and implement the area() method in both ?\n",
        "\n",
        "from abc import ABC, abstractmethod\n",
        "\n",
        "# Abstract class\n",
        "class Shape(ABC):\n",
        "    @abstractmethod\n",
        "    def area(self):\n",
        "        pass  # Abstract method, must be implemented in child classes\n",
        "\n",
        "# Circle class\n",
        "class Circle(Shape):\n",
        "    def __init__(self, radius):\n",
        "        self.radius = radius\n",
        "\n",
        "    def area(self):\n",
        "        return 3.14 * self.radius * self.radius  # πr² formula\n",
        "\n",
        "# Rectangle class\n",
        "class Rectangle(Shape):\n",
        "    def __init__(self, length, width):\n",
        "        self.length = length\n",
        "        self.width = width\n",
        "\n",
        "    def area(self):\n",
        "        return self.length * self.width  # Length × Width formula\n",
        "\n",
        "# Creating objects\n",
        "circle = Circle(5)\n",
        "rectangle = Rectangle(4, 6)\n",
        "\n",
        "# Calculating and printing area\n",
        "print(\"Circle Area:\", circle.area())       # Output: 78.5\n",
        "print(\"Rectangle Area:\", rectangle.area()) # Output: 24\n"
      ],
      "metadata": {
        "colab": {
          "base_uri": "https://localhost:8080/"
        },
        "id": "80zWsHm2FFEe",
        "outputId": "7d6948f6-a23f-4d87-e030-3c8016be068a"
      },
      "execution_count": 2,
      "outputs": [
        {
          "output_type": "stream",
          "name": "stdout",
          "text": [
            "Circle Area: 78.5\n",
            "Rectangle Area: 24\n"
          ]
        }
      ]
    },
    {
      "cell_type": "code",
      "source": [
        "# Question 3. . Implement a multi-level inheritance scenario where a class Vehicle has an attribute type. Derive a class Car\n",
        "#and further derive a class ElectricCar that adds a battery attribute ?\n",
        "\n",
        "# Base class\n",
        "class Vehicle:\n",
        "    def __init__(self, type):\n",
        "        self.type = type\n",
        "\n",
        "    def show_type(self):\n",
        "        print(f\"Vehicle Type: {self.type}\")\n",
        "\n",
        "# Derived class (inherits from Vehicle)\n",
        "class Car(Vehicle):\n",
        "    def __init__(self, type, brand):\n",
        "        super().__init__(type)  # Call the parent class constructor\n",
        "        self.brand = brand\n",
        "\n",
        "    def show_brand(self):\n",
        "        print(f\"Car Brand: {self.brand}\")\n",
        "\n",
        "# Further derived class (inherits from Car)\n",
        "class ElectricCar(Car):\n",
        "    def __init__(self, type, brand, battery):\n",
        "        super().__init__(type, brand)  # Call the Car constructor\n",
        "        self.battery = battery\n",
        "\n",
        "    def show_battery(self):\n",
        "        print(f\"Battery Capacity: {self.battery} kWh\")\n",
        "\n",
        "# Creating an object of ElectricCar\n",
        "tesla = ElectricCar(\"Car\", \"Tesla\", 75)\n",
        "\n",
        "# Calling methods\n",
        "tesla.show_type()    # Output: Vehicle Type: Car\n",
        "tesla.show_brand()   # Output: Car Brand: Tesla\n",
        "tesla.show_battery() # Output: Battery Capacity: 75 kWh\n"
      ],
      "metadata": {
        "colab": {
          "base_uri": "https://localhost:8080/"
        },
        "id": "VtehTVqOFFBw",
        "outputId": "deda9f01-278d-441e-b8fd-6745e933ccb9"
      },
      "execution_count": 3,
      "outputs": [
        {
          "output_type": "stream",
          "name": "stdout",
          "text": [
            "Vehicle Type: Car\n",
            "Car Brand: Tesla\n",
            "Battery Capacity: 75 kWh\n"
          ]
        }
      ]
    },
    {
      "cell_type": "code",
      "source": [
        "# Question 4. Demonstrate polymorphism by creating a base class Bird with a method fly(). Create two derived classes\n",
        "#Sparrow and Penguin that override the fly() method ?\n",
        "\n",
        "# Base class\n",
        "class Bird:\n",
        "    def fly(self):\n",
        "        print(\"Some birds can fly.\")\n",
        "\n",
        "# Derived class (Sparrow)\n",
        "class Sparrow(Bird):\n",
        "    def fly(self):\n",
        "        print(\"Sparrow flies high in the sky!\")\n",
        "\n",
        "# Derived class (Penguin)\n",
        "class Penguin(Bird):\n",
        "    def fly(self):\n",
        "        print(\"Penguins cannot fly, they swim!\")\n",
        "\n",
        "# Creating objects\n",
        "bird1 = Sparrow()\n",
        "bird2 = Penguin()\n",
        "\n",
        "# Calling the fly() method\n",
        "bird1.fly()  # Output: Sparrow flies high in the sky!\n",
        "bird2.fly()  # Output: Penguins cannot fly, they swim!\n"
      ],
      "metadata": {
        "colab": {
          "base_uri": "https://localhost:8080/"
        },
        "id": "VDO2RzqTFE_A",
        "outputId": "ca89e2a8-8d8b-4ce6-b40b-5a074af0587e"
      },
      "execution_count": 4,
      "outputs": [
        {
          "output_type": "stream",
          "name": "stdout",
          "text": [
            "Sparrow flies high in the sky!\n",
            "Penguins cannot fly, they swim!\n"
          ]
        }
      ]
    },
    {
      "cell_type": "code",
      "source": [
        "# Question 5. Write a program to demonstrate encapsulation by creating a class BankAccount with private attributes\n",
        "#balance and methods to deposit, withdraw, and check balance ?\n",
        "\n",
        "class BankAccount:\n",
        "    def __init__(self, initial_balance=0):\n",
        "        self.__balance = initial_balance  # Private attribute\n",
        "\n",
        "    def deposit(self, amount):\n",
        "        if amount > 0:\n",
        "            self.__balance += amount\n",
        "            print(f\"Deposited: {amount}\")\n",
        "        else:\n",
        "            print(\"Deposit amount must be positive!\")\n",
        "\n",
        "    def withdraw(self, amount):\n",
        "        if 0 < amount <= self.__balance:\n",
        "            self.__balance -= amount\n",
        "            print(f\"Withdrawn: {amount}\")\n",
        "        else:\n",
        "            print(\"Insufficient balance or invalid amount!\")\n",
        "\n",
        "    def check_balance(self):\n",
        "        print(f\"Current Balance: {self.__balance}\")\n",
        "\n",
        "# Creating an object of BankAccount\n",
        "account = BankAccount(500)\n",
        "\n",
        "# Performing operations\n",
        "account.deposit(200)     # Deposited: 200\n",
        "account.withdraw(100)    # Withdrawn: 100\n",
        "account.check_balance()  # Current Balance: 600\n",
        "\n",
        "# Attempting to access private attribute (will cause an error)\n",
        "# print(account.__balance)  # AttributeError\n"
      ],
      "metadata": {
        "colab": {
          "base_uri": "https://localhost:8080/"
        },
        "id": "01R8OFPqFE7Z",
        "outputId": "151b0c6e-971b-40b5-e46a-e8a645881cd9"
      },
      "execution_count": 5,
      "outputs": [
        {
          "output_type": "stream",
          "name": "stdout",
          "text": [
            "Deposited: 200\n",
            "Withdrawn: 100\n",
            "Current Balance: 600\n"
          ]
        }
      ]
    },
    {
      "cell_type": "code",
      "source": [
        "# Question 6. Demonstrate runtime polymorphism using a method play() in a base class Instrument. Derive classes Guitar\n",
        "#and Piano that implement their own version of play() ?\n",
        "\n",
        "# Base class\n",
        "class Instrument:\n",
        "    def play(self):\n",
        "        print(\"Instrument is playing sound\")\n",
        "\n",
        "# Derived class (Guitar)\n",
        "class Guitar(Instrument):\n",
        "    def play(self):\n",
        "        print(\"Playing guitar sounds\")\n",
        "\n",
        "# Derived class (Piano)\n",
        "class Piano(Instrument):\n",
        "    def play(self):\n",
        "        print(\"Playing piano melody\")\n",
        "\n",
        "# Function demonstrating runtime polymorphism\n",
        "def play_instrument(instrument):\n",
        "    instrument.play()  # Calls the overridden method based on object type\n",
        "\n",
        "# Creating objects\n",
        "guitar = Guitar()\n",
        "piano = Piano()\n",
        "\n",
        "# Calling the play() method at runtime\n",
        "play_instrument(guitar)  # Output: Playing guitar sounds\n",
        "play_instrument(piano)   # Output: Playing piano melody\n"
      ],
      "metadata": {
        "colab": {
          "base_uri": "https://localhost:8080/"
        },
        "id": "HoszaMVFFE3i",
        "outputId": "3556bcdc-bfc1-4b64-cda3-08c223e1beaf"
      },
      "execution_count": 6,
      "outputs": [
        {
          "output_type": "stream",
          "name": "stdout",
          "text": [
            "Playing guitar sounds\n",
            "Playing piano melody\n"
          ]
        }
      ]
    },
    {
      "cell_type": "code",
      "source": [
        "# Question 7. Create a class MathOperations with a class method add_numbers() to add two numbers and a static\n",
        "#method subtract_numbers() to subtract two numbers ?\n",
        "\n",
        "class MathOperations:\n",
        "    @classmethod\n",
        "    def add_numbers(cls, a, b):\n",
        "        return a + b  # Class method to add numbers\n",
        "\n",
        "    @staticmethod\n",
        "    def subtract_numbers(a, b):\n",
        "        return a - b  # Static method to subtract numbers\n",
        "\n",
        "# Using class method and static method\n",
        "print(\"Addition:\", MathOperations.add_numbers(10, 5))    # Output: 15\n",
        "print(\"Subtraction:\", MathOperations.subtract_numbers(10, 5))  # Output: 5\n"
      ],
      "metadata": {
        "colab": {
          "base_uri": "https://localhost:8080/"
        },
        "id": "IKDwgKyhFE0G",
        "outputId": "16d8bb31-f76f-45b8-ee97-45457968d0e1"
      },
      "execution_count": 7,
      "outputs": [
        {
          "output_type": "stream",
          "name": "stdout",
          "text": [
            "Addition: 15\n",
            "Subtraction: 5\n"
          ]
        }
      ]
    },
    {
      "cell_type": "code",
      "source": [
        "# Question 8.  Implement a class Person with a class method to count the total number of persons created ?\n",
        "\n",
        "class Person:\n",
        "    count = 0  # Class variable to count instances\n",
        "\n",
        "    def __init__(self, name):\n",
        "        self.name = name\n",
        "        Person.count += 1  # Increment count whenever a new object is created\n",
        "\n",
        "    @classmethod\n",
        "    def total_persons(cls):\n",
        "        return f\"Total persons created: {cls.count}\"\n",
        "\n",
        "# Creating objects\n",
        "p1 = Person(\"Alice\")\n",
        "p2 = Person(\"Bob\")\n",
        "p3 = Person(\"Charlie\")\n",
        "\n",
        "# Getting total persons count\n",
        "print(Person.total_persons())  # Output: Total persons created: 3\n"
      ],
      "metadata": {
        "colab": {
          "base_uri": "https://localhost:8080/"
        },
        "id": "6fpwildrFExJ",
        "outputId": "331200e7-38db-407c-939d-d7441f631c1e"
      },
      "execution_count": 8,
      "outputs": [
        {
          "output_type": "stream",
          "name": "stdout",
          "text": [
            "Total persons created: 3\n"
          ]
        }
      ]
    },
    {
      "cell_type": "code",
      "source": [
        "# Question 9. Write a class Fraction with attributes numerator and denominator. Override the str method to display the\n",
        "#fraction as \"numerator/denominator\" ?\n",
        "\n",
        "class Fraction:\n",
        "    def __init__(self, numerator, denominator):\n",
        "        self.numerator = numerator\n",
        "        self.denominator = denominator\n",
        "\n",
        "    def __str__(self):\n",
        "        return f\"{self.numerator}/{self.denominator}\"  # Custom string representation\n",
        "\n",
        "# Creating objects\n",
        "fraction1 = Fraction(3, 5)\n",
        "fraction2 = Fraction(7, 2)\n",
        "\n",
        "# Printing fractions\n",
        "print(fraction1)  # Output: 3/5\n",
        "print(fraction2)  # Output: 7/2\n"
      ],
      "metadata": {
        "colab": {
          "base_uri": "https://localhost:8080/"
        },
        "id": "sKkv6OhzFEuG",
        "outputId": "57a4cebd-ef34-40a9-a4f2-857ca43892eb"
      },
      "execution_count": 9,
      "outputs": [
        {
          "output_type": "stream",
          "name": "stdout",
          "text": [
            "3/5\n",
            "7/2\n"
          ]
        }
      ]
    },
    {
      "cell_type": "code",
      "source": [
        "# Question 10. Demonstrate operator overloading by creating a class Vector and overriding the add method to add two vectors ?\n",
        "\n",
        "class Vector:\n",
        "    def __init__(self, x, y):\n",
        "        self.x = x\n",
        "        self.y = y\n",
        "\n",
        "    def __add__(self, other):\n",
        "        return Vector(self.x + other.x, self.y + other.y)  # Adding corresponding coordinates\n",
        "\n",
        "    def __str__(self):\n",
        "        return f\"({self.x}, {self.y})\"  # Custom string representation\n",
        "\n",
        "# Creating vector objects\n",
        "v1 = Vector(2, 3)\n",
        "v2 = Vector(4, 5)\n",
        "\n",
        "# Adding vectors using overloaded + operator\n",
        "result = v1 + v2\n",
        "\n",
        "# Printing result\n",
        "print(\"Vector 1:\", v1)  # Output: (2, 3)\n",
        "print(\"Vector 2:\", v2)  # Output: (4, 5)\n",
        "print(\"Sum of Vectors:\", result)  # Output: (6, 8)\n"
      ],
      "metadata": {
        "colab": {
          "base_uri": "https://localhost:8080/"
        },
        "id": "IBm18Nd8FErD",
        "outputId": "9a9716bf-2d5a-40c5-c5c3-0dc42df2ea26"
      },
      "execution_count": 10,
      "outputs": [
        {
          "output_type": "stream",
          "name": "stdout",
          "text": [
            "Vector 1: (2, 3)\n",
            "Vector 2: (4, 5)\n",
            "Sum of Vectors: (6, 8)\n"
          ]
        }
      ]
    },
    {
      "cell_type": "code",
      "source": [
        "# Question 11. Create a class Person with attributes name and age. Add a method greet() that prints \"Hello, my name is {name} and I am {age} years old.\"\n",
        "\n",
        "class Person:\n",
        "    def __init__(self, name, age):\n",
        "        self.name = name\n",
        "        self.age = age\n",
        "\n",
        "    def greet(self):\n",
        "        print(f\"Hello, my name is {self.name} and I am {self.age} years old.\")\n",
        "\n",
        "# Creating objects\n",
        "person1 = Person(\"Alice\", 25)\n",
        "person2 = Person(\"Bob\", 30)\n",
        "\n",
        "# Calling the greet method\n",
        "person1.greet()  # Output: Hello, my name is Alice and I am 25 years old.\n",
        "person2.greet()  # Output: Hello, my name is Bob and I am 30 years old.\n"
      ],
      "metadata": {
        "colab": {
          "base_uri": "https://localhost:8080/"
        },
        "id": "PQOPiKUjFEnF",
        "outputId": "d14f89b1-5b3c-49cd-c51f-481655742a4d"
      },
      "execution_count": 11,
      "outputs": [
        {
          "output_type": "stream",
          "name": "stdout",
          "text": [
            "Hello, my name is Alice and I am 25 years old.\n",
            "Hello, my name is Bob and I am 30 years old.\n"
          ]
        }
      ]
    },
    {
      "cell_type": "code",
      "source": [
        "# Question 12.  Implement a class Student with attributes name and grades. Create a method average_grade() to compute\\ the average of the grades.\n",
        "\n",
        "class Student:\n",
        "    def __init__(self, name, grades):\n",
        "        self.name = name\n",
        "        self.grades = grades  # List of grades\n",
        "\n",
        "    def average_grade(self):\n",
        "        if self.grades:  # Ensure grades list is not empty\n",
        "            return sum(self.grades) / len(self.grades)\n",
        "        else:\n",
        "            return 0  # Return 0 if no grades are available\n",
        "\n",
        "# Creating student objects\n",
        "student1 = Student(\"Alice\", [85, 90, 78])\n",
        "student2 = Student(\"Bob\", [92, 88, 79, 85])\n",
        "\n",
        "# Printing average grades\n",
        "print(f\"{student1.name}'s Average Grade:\", student1.average_grade())  # Output: 84.33\n",
        "print(f\"{student2.name}'s Average Grade:\", student2.average_grade())  # Output: 86.0\n"
      ],
      "metadata": {
        "colab": {
          "base_uri": "https://localhost:8080/"
        },
        "id": "NIqf8R_RFEjZ",
        "outputId": "672edc8e-f203-4211-e224-4cc4cc2a08df"
      },
      "execution_count": 12,
      "outputs": [
        {
          "output_type": "stream",
          "name": "stdout",
          "text": [
            "Alice's Average Grade: 84.33333333333333\n",
            "Bob's Average Grade: 86.0\n"
          ]
        }
      ]
    },
    {
      "cell_type": "code",
      "source": [
        "# Question 13. Create a class Rectangle with methods set_dimensions() to set the dimensions and area() to calculate the area.\n",
        "\n",
        "class Rectangle:\n",
        "    def __init__(self):\n",
        "        self.length = 0\n",
        "        self.width = 0\n",
        "\n",
        "    def set_dimensions(self, length, width):\n",
        "        self.length = length\n",
        "        self.width = width\n",
        "\n",
        "    def area(self):\n",
        "        return self.length * self.width  # Area formula: length × width\n",
        "\n",
        "# Creating object\n",
        "rect = Rectangle()\n",
        "\n",
        "# Setting dimensions\n",
        "rect.set_dimensions(5, 10)\n",
        "\n",
        "# Printing area\n",
        "print(\"Rectangle Area:\", rect.area())  # Output: 50\n"
      ],
      "metadata": {
        "colab": {
          "base_uri": "https://localhost:8080/"
        },
        "id": "RSc-IoKOFEen",
        "outputId": "aa19d25c-4c3a-4d34-d30a-9675aa13920c"
      },
      "execution_count": 13,
      "outputs": [
        {
          "output_type": "stream",
          "name": "stdout",
          "text": [
            "Rectangle Area: 50\n"
          ]
        }
      ]
    },
    {
      "cell_type": "code",
      "source": [
        "# Question 14. Create a class Employee with a method calculate_salary() that computes the salary based on hours worked\n",
        "#and hourly rate. Create a derived class Manager that adds a bonus to the salary ?\n",
        "\n",
        "# Base class\n",
        "class Employee:\n",
        "    def __init__(self, hours_worked, hourly_rate):\n",
        "        self.hours_worked = hours_worked\n",
        "        self.hourly_rate = hourly_rate\n",
        "\n",
        "    def calculate_salary(self):\n",
        "        return self.hours_worked * self.hourly_rate  # Salary formula\n",
        "\n",
        "# Derived class (Manager)\n",
        "class Manager(Employee):\n",
        "    def __init__(self, hours_worked, hourly_rate, bonus):\n",
        "        super().__init__(hours_worked, hourly_rate)  # Call parent constructor\n",
        "        self.bonus = bonus\n",
        "\n",
        "    def calculate_salary(self):\n",
        "        base_salary = super().calculate_salary()  # Get base salary from Employee\n",
        "        return base_salary + self.bonus  # Add bonus\n",
        "\n",
        "# Creating Employee object\n",
        "emp = Employee(40, 20)  # 40 hours, $20 per hour\n",
        "print(\"Employee Salary:\", emp.calculate_salary())  # Output: 800\n",
        "\n",
        "# Creating Manager object\n",
        "mgr = Manager(40, 20, 500)  # 40 hours, $20 per hour, $500 bonus\n",
        "print(\"Manager Salary:\", mgr.calculate_salary())  # Output: 1300\n"
      ],
      "metadata": {
        "colab": {
          "base_uri": "https://localhost:8080/"
        },
        "id": "crMV_3g0FEal",
        "outputId": "81588458-d144-4738-f42d-17748f5541f8"
      },
      "execution_count": 14,
      "outputs": [
        {
          "output_type": "stream",
          "name": "stdout",
          "text": [
            "Employee Salary: 800\n",
            "Manager Salary: 1300\n"
          ]
        }
      ]
    },
    {
      "cell_type": "code",
      "source": [
        "# Question 15. Create a class Product with attributes name, price, and quantity. Implement a method total_price() that\n",
        "#calculates the total price of the product.\n",
        "\n",
        "class Product:\n",
        "    def __init__(self, name, price, quantity):\n",
        "        self.name = name\n",
        "        self.price = price\n",
        "        self.quantity = quantity\n",
        "\n",
        "    def total_price(self):\n",
        "        return self.price * self.quantity  # Total cost formula\n",
        "\n",
        "# Creating product objects\n",
        "product1 = Product(\"Laptop\", 50000, 2)\n",
        "product2 = Product(\"Phone\", 20000, 3)\n",
        "\n",
        "# Printing total prices\n",
        "print(f\"Total price of {product1.name}: ₹{product1.total_price()}\")  # Output: ₹100000\n",
        "print(f\"Total price of {product2.name}: ₹{product2.total_price()}\")  # Output: ₹60000\n"
      ],
      "metadata": {
        "colab": {
          "base_uri": "https://localhost:8080/"
        },
        "id": "xC4XLie-FEV_",
        "outputId": "a9d961e9-6537-4206-fd22-a647b66a1414"
      },
      "execution_count": 15,
      "outputs": [
        {
          "output_type": "stream",
          "name": "stdout",
          "text": [
            "Total price of Laptop: ₹100000\n",
            "Total price of Phone: ₹60000\n"
          ]
        }
      ]
    },
    {
      "cell_type": "code",
      "source": [
        "# Question 16. Create a class Animal with an abstract method sound(). Create two derived classes Cow and Sheep that\n",
        "#implement the sound() method.\n",
        "\n",
        "from abc import ABC, abstractmethod\n",
        "\n",
        "# Abstract class\n",
        "class Animal(ABC):\n",
        "    @abstractmethod\n",
        "    def sound(self):\n",
        "        pass  # Must be implemented in child classes\n",
        "\n",
        "# Derived class (Cow)\n",
        "class Cow(Animal):\n",
        "    def sound(self):\n",
        "        return \"Moo\"\n",
        "\n",
        "# Derived class (Sheep)\n",
        "class Sheep(Animal):\n",
        "    def sound(self):\n",
        "        return \"Baa\"\n",
        "\n",
        "# Creating objects\n",
        "cow = Cow()\n",
        "sheep = Sheep()\n",
        "\n",
        "# Printing animal sounds\n",
        "print(\"Cow:\", cow.sound())  # Output: Moo\n",
        "print(\"Sheep:\", sheep.sound())  # Output: Baa\n"
      ],
      "metadata": {
        "colab": {
          "base_uri": "https://localhost:8080/"
        },
        "id": "Q1x42Xb7FESh",
        "outputId": "088254cf-8217-420d-d200-b51ffe3f24ef"
      },
      "execution_count": 16,
      "outputs": [
        {
          "output_type": "stream",
          "name": "stdout",
          "text": [
            "Cow: Moo\n",
            "Sheep: Baa\n"
          ]
        }
      ]
    },
    {
      "cell_type": "code",
      "source": [
        "# Question 17. Create a class Book with attributes title, author, and year_published. Add a method get_book_info() that\n",
        "# returns a formatted string with the book's details ?\n",
        "\n",
        "class Book:\n",
        "    def __init__(self, title, author, year_published):\n",
        "        self.title = title\n",
        "        self.author = author\n",
        "        self.year_published = year_published\n",
        "\n",
        "    def get_book_info(self):\n",
        "        return f\"'{self.title}' by {self.author}, published in {self.year_published}\"\n",
        "\n",
        "# Creating book objects\n",
        "book1 = Book(\"The Alchemist\", \"Paulo Coelho\", 1988)\n",
        "book2 = Book(\"1984\", \"George Orwell\", 1949)\n",
        "\n",
        "# Printing book details\n",
        "print(book1.get_book_info())  # Output: 'The Alchemist' by Paulo Coelho, published in 1988\n",
        "print(book2.get_book_info())  # Output: '1984' by George Orwell, published in 1949\n"
      ],
      "metadata": {
        "colab": {
          "base_uri": "https://localhost:8080/"
        },
        "id": "DmMSCZJqFEOc",
        "outputId": "6b3a704d-34fe-4412-9dc3-4d181bde827a"
      },
      "execution_count": 17,
      "outputs": [
        {
          "output_type": "stream",
          "name": "stdout",
          "text": [
            "'The Alchemist' by Paulo Coelho, published in 1988\n",
            "'1984' by George Orwell, published in 1949\n"
          ]
        }
      ]
    },
    {
      "cell_type": "code",
      "source": [
        "# Question 18. Create a class House with attributes address and price. Create a derived class Mansion that adds an\n",
        "# attribute number_of_rooms ?\n",
        "\n",
        "# Base class\n",
        "class House:\n",
        "    def __init__(self, address, price):\n",
        "        self.address = address\n",
        "        self.price = price\n",
        "\n",
        "    def show_details(self):\n",
        "        return f\"Address: {self.address}, Price: ₹{self.price}\"\n",
        "\n",
        "# Derived class (Mansion)\n",
        "class Mansion(House):\n",
        "    def __init__(self, address, price, number_of_rooms):\n",
        "        super().__init__(address, price)  # Call parent constructor\n",
        "        self.number_of_rooms = number_of_rooms\n",
        "\n",
        "    def show_details(self):\n",
        "        return f\"{super().show_details()}, Rooms: {self.number_of_rooms}\"\n",
        "\n",
        "# Creating objects\n",
        "house = House(\"123 Main St, Mumbai\", 5000000)\n",
        "mansion = Mansion(\"456 Luxury Rd, Delhi\", 20000000, 10)\n",
        "\n",
        "# Printing details\n",
        "print(house.show_details())   # Output: Address: 123 Main St, Mumbai, Price: ₹5000000\n",
        "print(mansion.show_details()) # Output: Address: 456 Luxury Rd, Delhi, Price: ₹20000000, Rooms: 10\n"
      ],
      "metadata": {
        "colab": {
          "base_uri": "https://localhost:8080/"
        },
        "id": "nWTBvDRlFEK8",
        "outputId": "7c763d29-7466-4729-ecb3-020faaf16a56"
      },
      "execution_count": 18,
      "outputs": [
        {
          "output_type": "stream",
          "name": "stdout",
          "text": [
            "Address: 123 Main St, Mumbai, Price: ₹5000000\n",
            "Address: 456 Luxury Rd, Delhi, Price: ₹20000000, Rooms: 10\n"
          ]
        }
      ]
    }
  ]
}