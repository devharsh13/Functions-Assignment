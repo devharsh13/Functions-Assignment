{
  "nbformat": 4,
  "nbformat_minor": 0,
  "metadata": {
    "colab": {
      "provenance": []
    },
    "kernelspec": {
      "name": "python3",
      "display_name": "Python 3"
    },
    "language_info": {
      "name": "python"
    }
  },
  "cells": [
    {
      "cell_type": "markdown",
      "source": [
        "# Theoritical Questions"
      ],
      "metadata": {
        "id": "AqYeSCW_tJco"
      }
    },
    {
      "cell_type": "markdown",
      "source": [
        "Question 1. What is the difference between interpreted and compiled languages ?\n",
        "\n",
        "Answer. Interpreted languages execute code line-by-line using an interpreter, making them flexible and easy to debug but generally slower in execution. Python, JavaScript, and Ruby are examples of interpreted languages. In contrast, compiled languages, such as C and Java, translate the entire source code into machine code before execution, resulting in faster performance but requiring a compilation step. Python is considered an interpreted language because it does not require explicit compilation, making development faster. However, Python can also be compiled to bytecode, which is executed by the Python Virtual Machine (PVM) for improved performance."
      ],
      "metadata": {
        "id": "9txAEJdNtJZK"
      }
    },
    {
      "cell_type": "markdown",
      "source": [
        "Question 2. What is exception handling in Python ?\n",
        "\n",
        "Answer. Exception handling in Python allows a program to handle runtime errors gracefully, preventing abrupt crashes. It is implemented using the try-except block, where the try block contains code that might raise an exception, and the except block catches and handles the error. Python also supports finally, which executes code regardless of whether an exception occurs, and else, which runs only if no exception is raised. Exception handling is crucial for making programs robust and error-resistant, ensuring they function smoothly under unexpected conditions such as invalid user input or file access errors."
      ],
      "metadata": {
        "id": "ImWp9U85tJWJ"
      }
    },
    {
      "cell_type": "markdown",
      "source": [
        "Question 3. What is the purpose of the finally block in exception handling ?\n",
        "\n",
        "Answer. The finally block in Python is used to execute cleanup code, such as closing files or releasing resources, regardless of whether an exception occurs. It ensures that important finalization tasks are completed even if an error is raised. For example, if a program opens a file for reading, the finally block can ensure the file is closed, preventing resource leaks. This is particularly useful when dealing with network connections, database transactions, or file operations, where proper resource management is crucial. Even if an exception is not handled, the finally block still executes before the program terminates."
      ],
      "metadata": {
        "id": "RwK0l6Q0tJSC"
      }
    },
    {
      "cell_type": "markdown",
      "source": [
        "Question 4. What is logging in Python ?\n",
        "\n",
        "Answer. Logging is a built-in Python module that allows developers to record program execution details, such as error messages, warnings, and debugging information. It is useful for tracking application behavior and troubleshooting issues. The logging module provides different severity levels: DEBUG, INFO, WARNING, ERROR, and CRITICAL, which help categorize log messages. Unlike print(), logging can write messages to files, format output, and handle logging in complex applications. Developers use logging to monitor software performance, detect bugs, and store execution history for auditing purposes, making it an essential tool for production environments."
      ],
      "metadata": {
        "id": "_IaGxB1LtJOl"
      }
    },
    {
      "cell_type": "markdown",
      "source": [
        "Question 5. What is the significance of the __del__ method in Python ?\n",
        "\n",
        "Answer. The __del__ method in Python is a destructor that is automatically called when an object is about to be deleted. It allows developers to define custom cleanup actions, such as closing files or releasing network connections. However, Python’s garbage collector manages memory efficiently, so explicit use of __del__ is rare. Improper use of __del__ can lead to circular reference issues, where objects cannot be deleted due to mutual references. While __del__ provides control over object destruction, developers should prefer context managers (with statements) for resource management, ensuring proper cleanup without relying on explicit destructors."
      ],
      "metadata": {
        "id": "3OFbdNW6tJJB"
      }
    },
    {
      "cell_type": "markdown",
      "source": [
        "Question 6. What is the difference between import and from ... import in Python ?\n",
        "\n",
        "Answer. import module loads the entire module, requiring functions to be accessed using module.function(). In contrast, from module import function imports specific functions, allowing direct use without prefixing. The latter improves readability but risks namespace conflicts. Using import module is recommended for large projects to maintain clear module separation, whereas from module import is useful for frequently used functions to improve code brevity. The from module import * statement is generally discouraged as it can lead to unexpected conflicts and reduce code clarity."
      ],
      "metadata": {
        "id": "ObRfmBFktJCU"
      }
    },
    {
      "cell_type": "markdown",
      "source": [
        "Question 7. How can you handle multiple exceptions in Python ?\n",
        "\n",
        "Answer. In Python, multiple exceptions can be handled efficiently using either multiple except blocks or a single except block with a tuple of exception types. This approach ensures that different types of errors are caught and handled properly, preventing the program from abruptly terminating.\n",
        "\n",
        "Using Multiple except Blocks\n",
        "Each except block is responsible for handling a specific exception type. When an exception occurs, Python matches it with the first applicable except block and executes its corresponding code.\n",
        "\n",
        "Using a Single except Block with a Tuple\n",
        "A single except block can handle multiple exception types by specifying them in a tuple. If an exception matches any type in the tuple, the except block executes."
      ],
      "metadata": {
        "id": "g194KKqbtI_P"
      }
    },
    {
      "cell_type": "markdown",
      "source": [
        "Question 8. What is the purpose of the with statement when handling files in Python ?\n",
        "\n",
        "Answer. The with statement in Python is used for resource management, particularly in file handling. It ensures that a file is properly opened and automatically closed after the block execution, reducing the chances of resource leaks.\n",
        "\n",
        "Advantages of using the with statement:\n",
        "\n",
        "Automatic Resource Management: The file is closed automatically when the block ends, even if an exception occurs.\n",
        "Improved Code Readability: The syntax is cleaner and eliminates the need to explicitly call close().\n",
        "Exception Handling: If an error occurs while working with the file, Python ensures proper cleanup before handling the exception."
      ],
      "metadata": {
        "id": "MdzWVbSXtI8C"
      }
    },
    {
      "cell_type": "markdown",
      "source": [
        "Question 9. What is the difference between multithreading and multiprocessing ?\n",
        "\n",
        "Answer. Multithreading allows multiple threads to execute concurrently within a process, sharing the same memory space. It is efficient for I/O-bound tasks like file reading or web scraping. Multiprocessing creates separate processes, each with its own memory, making it suitable for CPU-intensive tasks like large computations. Python’s Global Interpreter Lock (GIL) restricts true parallel execution in multithreading, making multiprocessing a better choice for tasks that require heavy CPU usage."
      ],
      "metadata": {
        "id": "0-dN1hyCtI47"
      }
    },
    {
      "cell_type": "markdown",
      "source": [
        "Question 10. What are the advantages of using logging in a program ?\n",
        "\n",
        "Answer. Logging provides insights into program execution, aiding debugging and monitoring. It categorizes messages using levels (DEBUG, INFO, WARNING, ERROR, CRITICAL) and allows storing logs in files for future analysis. Unlike print(), logging enables tracking without cluttering code, making it ideal for large applications. Logs help identify performance bottlenecks, security issues, and unexpected failures."
      ],
      "metadata": {
        "id": "VMIWA-61tI1V"
      }
    },
    {
      "cell_type": "markdown",
      "source": [
        "Question 11. What is memory management in Python ?\n",
        "\n",
        "Answer. Python’s memory management includes automatic garbage collection, dynamic memory allocation, and reference counting. The gc module handles cyclic references, preventing memory leaks. Python also uses private heap space to manage memory efficiently."
      ],
      "metadata": {
        "id": "whdCkTqPtIx9"
      }
    },
    {
      "cell_type": "markdown",
      "source": [
        "Question 12. What are the basic steps involved in exception handling in Python ?\n",
        "\n",
        "Answer. Try Block: Encloses code that may raise an exception.\n",
        "\n",
        "Except Block: Catches and handles exceptions.\n",
        "\n",
        "Else Block: Executes if no exceptions occur.\n",
        "\n",
        "Finally Block: Executes cleanup code regardless of errors."
      ],
      "metadata": {
        "id": "hyp4zBnttIts"
      }
    },
    {
      "cell_type": "markdown",
      "source": [
        "Question 13. Why is memory management important in Python ?\n",
        "\n",
        "Answer. Proper memory management prevents memory leaks, optimizes performance, and ensures efficient resource utilization, especially in large applications."
      ],
      "metadata": {
        "id": "ZnF-xrKBtIql"
      }
    },
    {
      "cell_type": "markdown",
      "source": [
        "Question 14. What is the role of try and except in exception handling ?\n",
        "\n",
        "Answer. The try block contains potentially error-prone code, while the except block handles exceptions, preventing program crashes."
      ],
      "metadata": {
        "id": "m7ti-dfItIna"
      }
    },
    {
      "cell_type": "markdown",
      "source": [
        "Question 15. How does Python's garbage collection system work ?\n",
        "\n",
        "Answer. Python uses reference counting and a cyclic garbage collector to automatically manage memory, preventing memory leaks."
      ],
      "metadata": {
        "id": "rnb1zIBktIjI"
      }
    },
    {
      "cell_type": "markdown",
      "source": [
        "Question 16. What is the purpose of the else block in exception handling ?\n",
        "\n",
        "Answer. The else block runs only if the try block executes successfully without exceptions."
      ],
      "metadata": {
        "id": "M41yGxlCtIf_"
      }
    },
    {
      "cell_type": "markdown",
      "source": [
        "Question 17. What are the common logging levels in Python ?\n",
        "\n",
        "Answer. DEBUG: Diagnostic information for debugging.\n",
        "\n",
        "INFO: General program execution details.\n",
        "\n",
        "WARNING: Indicates potential issues.\n",
        "\n",
        "ERROR: Serious problems preventing execution.\n",
        "\n",
        "CRITICAL: Severe errors leading to program failure."
      ],
      "metadata": {
        "id": "ZZgoc4OLtIct"
      }
    },
    {
      "cell_type": "markdown",
      "source": [
        "Question 18. What is the difference between os.fork() and multiprocessing in Python ?\n",
        "\n",
        "Answer. os.fork() creates a child process in Unix-based systems, whereas the multiprocessing module provides a platform-independent approach."
      ],
      "metadata": {
        "id": "KRm9Mwm_tIZM"
      }
    },
    {
      "cell_type": "markdown",
      "source": [
        "Question 19. What is the importance of closing a file in Python ?\n",
        "\n",
        "Answer. Closing files releases system resources, preventing memory leaks and file corruption.\n",
        "\n"
      ],
      "metadata": {
        "id": "NGwf0FWItIV6"
      }
    },
    {
      "cell_type": "markdown",
      "source": [
        "Question 20. What is the difference between file.read() and file.readline() in Python ?\n",
        "\n",
        "Answer. read() reads the entire file, while readline() reads one line at a time, optimizing memory usage for large files."
      ],
      "metadata": {
        "id": "UewzOeUntISh"
      }
    },
    {
      "cell_type": "markdown",
      "source": [
        "Question 21. What is the logging module in Python used for ?\n",
        "\n",
        "Answer. It provides structured logging for debugging and monitoring program execution.\n",
        "\n"
      ],
      "metadata": {
        "id": "-AL4VjPXtIPJ"
      }
    },
    {
      "cell_type": "markdown",
      "source": [
        "Question 22. What is the os module in Python used for in file handling ?\n",
        "\n",
        "Answer. The os module allows file manipulation, directory operations, and interaction with the operating system.\n",
        "\n"
      ],
      "metadata": {
        "id": "ZBiTVOdhtILy"
      }
    },
    {
      "cell_type": "markdown",
      "source": [
        "Question 23. What are the challenges associated with memory management in Python ?\n",
        "\n",
        "Answer. Issues include circular references, memory fragmentation, and inefficient memory allocation.\n",
        "\n"
      ],
      "metadata": {
        "id": "dKs1NWOAtIIo"
      }
    },
    {
      "cell_type": "markdown",
      "source": [
        "Question 24.  How do you raise an exception manually in Python ?\n",
        "\n",
        "Answer. Use raise Exception(\"Custom error message\") to generate errors explicitly.\n",
        "\n"
      ],
      "metadata": {
        "id": "8OuDmxqUtIFL"
      }
    },
    {
      "cell_type": "markdown",
      "source": [
        "Question 25. Why is it important to use multithreading in certain applications ?\n",
        "\n",
        "Answer. Multithreading improves performance in I/O-bound tasks by allowing concurrent execution, enhancing efficiency in applications like web scraping, GUI programs, and network operations.\n",
        "\n",
        ""
      ],
      "metadata": {
        "id": "TkYB5h48tIBx"
      }
    },
    {
      "cell_type": "markdown",
      "source": [
        "# Practical Questions"
      ],
      "metadata": {
        "id": "ctC9XWmexqiX"
      }
    },
    {
      "cell_type": "code",
      "source": [
        "# Question 1. How can you open a file for writing in Python and write a string to it ?\n",
        "\n",
        "with open(\"output.txt\", \"w\") as f:\n",
        "    f.write(\"Hello, this is a test file.\")"
      ],
      "metadata": {
        "id": "RMhusMbWxpHp"
      },
      "execution_count": 1,
      "outputs": []
    },
    {
      "cell_type": "code",
      "source": [
        "# Question 2. Write a Python program to read the contents of a file and print each lineF\n",
        "\n",
        "with open(\"output.txt\", \"r\") as f:\n",
        "    for line in f:\n",
        "        print(line.strip())"
      ],
      "metadata": {
        "colab": {
          "base_uri": "https://localhost:8080/"
        },
        "id": "w0Lxj707xpEE",
        "outputId": "fbfaa51d-99e3-48ce-a3a6-1f166a689857"
      },
      "execution_count": 2,
      "outputs": [
        {
          "output_type": "stream",
          "name": "stdout",
          "text": [
            "Hello, this is a test file.\n"
          ]
        }
      ]
    },
    {
      "cell_type": "code",
      "source": [
        "# Question 3. How would you handle a case where the file doesn't exist while trying to open it for reading ?\n",
        "\n",
        "try:\n",
        "    with open(\"nonexistent.txt\", \"r\") as f:\n",
        "        content = f.read()\n",
        "except FileNotFoundError:\n",
        "    print(\"File not found.\")"
      ],
      "metadata": {
        "colab": {
          "base_uri": "https://localhost:8080/"
        },
        "id": "UbV9Xd9yxo-R",
        "outputId": "b1133df6-ed79-4ca2-fe61-60c3799028b2"
      },
      "execution_count": 3,
      "outputs": [
        {
          "output_type": "stream",
          "name": "stdout",
          "text": [
            "File not found.\n"
          ]
        }
      ]
    },
    {
      "cell_type": "code",
      "source": [
        "# Question 4. Write a Python script that reads from one file and writes its content to another file\n",
        "\n",
        "with open(\"source.txt\", \"r\") as src, open(\"destination.txt\", \"w\") as dest:\n",
        "    dest.write(src.read())"
      ],
      "metadata": {
        "id": "EAvwCs8I0XsZ"
      },
      "execution_count": null,
      "outputs": []
    },
    {
      "cell_type": "code",
      "source": [
        "# Question 5. How would you catch and handle division by zero error in Python ?\n",
        "\n",
        "try:\n",
        "    result = 10 / 0\n",
        "except ZeroDivisionError:\n",
        "    print(\"Cannot divide by zero.\")"
      ],
      "metadata": {
        "id": "UvJglMgQxo1_"
      },
      "execution_count": null,
      "outputs": []
    },
    {
      "cell_type": "code",
      "source": [
        "# Question 6. Write a Python program that logs an error message to a log file when a division by zero exception occurs ?\n",
        "\n",
        "import logging\n",
        "logging.basicConfig(filename=\"error.log\", level=logging.ERROR)\n",
        "try:\n",
        "    result = 10 / 0\n",
        "except ZeroDivisionError:\n",
        "    logging.error(\"Division by zero error occurred.\")\n"
      ],
      "metadata": {
        "id": "Dj7M4gyhxoyT"
      },
      "execution_count": null,
      "outputs": []
    },
    {
      "cell_type": "code",
      "source": [
        "# Question 7. How do you log information at different levels (INFO, ERROR, WARNING) in Python using the logging module ?\n",
        "\n",
        "logging.info(\"This is an info message.\")\n",
        "logging.warning(\"This is a warning.\")\n",
        "logging.error(\"This is an error message.\")"
      ],
      "metadata": {
        "id": "oKb4Xrcxxouh"
      },
      "execution_count": null,
      "outputs": []
    },
    {
      "cell_type": "code",
      "source": [
        "# Question 8. Write a program to handle a file opening error using exception handlingF\n",
        "\n",
        "try:\n",
        "    with open(\"unknown.txt\", \"r\") as f:\n",
        "        print(f.read())\n",
        "except IOError:\n",
        "    print(\"File could not be opened.\")\n"
      ],
      "metadata": {
        "id": "3mujSQWyxoq6"
      },
      "execution_count": null,
      "outputs": []
    },
    {
      "cell_type": "code",
      "source": [
        "# Question 9. How can you read a file line by line and store its content in a list in Python ?\n",
        "\n",
        "with open(\"output.txt\", \"r\") as f:\n",
        "    lines = [line.strip() for line in f]"
      ],
      "metadata": {
        "id": "faF4jR4XxonT"
      },
      "execution_count": null,
      "outputs": []
    },
    {
      "cell_type": "code",
      "source": [
        "# Question 10. How can you append data to an existing file in Python ?\n",
        "\n",
        "with open(\"output.txt\", \"a\") as f:\n",
        "    f.write(\"\\nAppended text.\")"
      ],
      "metadata": {
        "id": "IitMG_jkxoj1"
      },
      "execution_count": null,
      "outputs": []
    },
    {
      "cell_type": "code",
      "source": [
        "# Question 11. Write a Python program that uses a try-except block to handle an error when attempting to access a\n",
        "#dictionary key that doesn't existF\n",
        "\n",
        "try:\n",
        "    d = {\"a\": 1, \"b\": 2}\n",
        "    print(d[\"c\"])\n",
        "except KeyError:\n",
        "    print(\"Key not found.\")\n"
      ],
      "metadata": {
        "id": "wMUWK2Ddxof2"
      },
      "execution_count": null,
      "outputs": []
    },
    {
      "cell_type": "code",
      "source": [
        "# Question 12. Write a program that demonstrates using multiple except blocks to handle different types of exceptions\n",
        "\n",
        "try:\n",
        "    x = int(\"abc\")\n",
        "except ValueError:\n",
        "    print(\"Invalid integer conversion.\")\n",
        "except TypeError:\n",
        "    print(\"Type error occurred.\")"
      ],
      "metadata": {
        "id": "6gduOqHKxocH"
      },
      "execution_count": null,
      "outputs": []
    },
    {
      "cell_type": "code",
      "source": [
        "# Question 13. How would you check if a file exists before attempting to read it in Python ?\n",
        "\n",
        "import os\n",
        "if os.path.exists(\"output.txt\"):\n",
        "    with open(\"output.txt\", \"r\") as f:\n",
        "        print(f.read())"
      ],
      "metadata": {
        "id": "gDjUMbuSyLyL"
      },
      "execution_count": null,
      "outputs": []
    },
    {
      "cell_type": "code",
      "source": [
        "# Question 14.  Write a program that uses the logging module to log both informational and error messagesF\n",
        "\n",
        "logging.info(\"This is an informational log.\")\n",
        "logging.error(\"This is an error log.\")\n"
      ],
      "metadata": {
        "id": "ApNcziT-yLug"
      },
      "execution_count": null,
      "outputs": []
    },
    {
      "cell_type": "code",
      "source": [
        "# Question 15. Write a Python program that prints the content of a file and handles the case when the file is emptyF\n",
        "\n",
        "with open(\"output.txt\", \"r\") as f:\n",
        "    content = f.read()\n",
        "    if not content:\n",
        "        print(\"File is empty.\")\n",
        "    else:\n",
        "        print(content)"
      ],
      "metadata": {
        "id": "NOV3i8iKyLrB"
      },
      "execution_count": null,
      "outputs": []
    },
    {
      "cell_type": "code",
      "source": [
        "# Question 16. Demonstrate how to use memory profiling to check the memory usage of a small program\n",
        "\n",
        "from memory_profiler import profile\n",
        "@profile\n",
        "def memory_usage():\n",
        "    arr = [i for i in range(1000)]\n",
        "memory_usage()"
      ],
      "metadata": {
        "id": "-lXxSjBqyLny"
      },
      "execution_count": null,
      "outputs": []
    },
    {
      "cell_type": "code",
      "source": [
        "# Question 17. Write a Python program to create and write a list of numbers to a file, one number per lineF\n",
        "\n",
        "with open(\"numbers.txt\", \"w\") as f:\n",
        "    for i in range(1, 11):\n",
        "        f.write(f\"{i}\\n\")"
      ],
      "metadata": {
        "id": "611Pr4mryLkH"
      },
      "execution_count": null,
      "outputs": []
    },
    {
      "cell_type": "code",
      "source": [
        "# Question 18. How would you implement a basic logging setup that logs to a file with rotation after 1MB ?\n",
        "\n",
        "from logging.handlers import RotatingFileHandler\n",
        "handler = RotatingFileHandler(\"rotating.log\", maxBytes=1024, backupCount=3)\n",
        "logger = logging.getLogger()\n",
        "logger.addHandler(handler)\n",
        "logger.error(\"This is a rotating log error.\")\n"
      ],
      "metadata": {
        "id": "9RadbyvkyLgX"
      },
      "execution_count": null,
      "outputs": []
    },
    {
      "cell_type": "code",
      "source": [
        "# Question 19. Write a program that handles both IndexError and KeyError using a try-except blockF\n",
        "\n",
        "try:\n",
        "    lst = [1, 2, 3]\n",
        "    print(lst[5])\n",
        "except IndexError:\n",
        "    print(\"Index out of range.\")\n",
        "\n",
        "try:\n",
        "    d = {\"x\": 10}\n",
        "    print(d[\"y\"])\n",
        "except KeyError:\n",
        "    print(\"Key not found in dictionary.\")"
      ],
      "metadata": {
        "id": "QPH5rqITyLce"
      },
      "execution_count": null,
      "outputs": []
    },
    {
      "cell_type": "code",
      "source": [
        "# Question 20. How would you open a file and read its contents using a context manager in Python ?\n",
        "\n",
        "with open(\"output.txt\", \"r\") as f:\n",
        "    print(f.read())"
      ],
      "metadata": {
        "id": "-TSvhJQ7yLY7"
      },
      "execution_count": null,
      "outputs": []
    },
    {
      "cell_type": "code",
      "source": [
        "# Question 21. Write a Python program that reads a file and prints the number of occurrences of a specific wordF\n",
        "\n",
        "from collections import Counter\n",
        "with open(\"output.txt\", \"r\") as f:\n",
        "    word_counts = Counter(f.read().split())\n",
        "print(word_counts)"
      ],
      "metadata": {
        "id": "47URWV_UyLVO"
      },
      "execution_count": null,
      "outputs": []
    },
    {
      "cell_type": "code",
      "source": [
        "# Question 22. How can you check if a file is empty before attempting to read its contents ?\n",
        "\n",
        "if os.stat(\"output.txt\").st_size == 0:\n",
        "    print(\"File is empty.\")"
      ],
      "metadata": {
        "id": "bZf-nIcTyLR2"
      },
      "execution_count": null,
      "outputs": []
    },
    {
      "cell_type": "code",
      "source": [
        "# Question 23. Write a Python program that writes to a log file when an error occurs during file handling\n",
        "\n",
        "try:\n",
        "    with open(\"invalid.txt\", \"r\") as f:\n",
        "        print(f.read())\n",
        "except FileNotFoundError as e:\n",
        "    logging.error(f\"File handling error: {e}\")"
      ],
      "metadata": {
        "id": "CBHcmdSvyfGa"
      },
      "execution_count": null,
      "outputs": []
    }
  ]
}