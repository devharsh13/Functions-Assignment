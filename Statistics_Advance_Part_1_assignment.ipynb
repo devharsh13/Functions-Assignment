{
  "nbformat": 4,
  "nbformat_minor": 0,
  "metadata": {
    "colab": {
      "provenance": []
    },
    "kernelspec": {
      "name": "python3",
      "display_name": "Python 3"
    },
    "language_info": {
      "name": "python"
    }
  },
  "cells": [
    {
      "cell_type": "markdown",
      "source": [
        "## Theoritical Questions"
      ],
      "metadata": {
        "id": "EzT_KN9IdlkL"
      }
    },
    {
      "cell_type": "markdown",
      "source": [
        "Question 1. What is a random variable in probability theory?\n",
        "\n",
        "Answer. A random variable is a variable that takes on different values based on the outcome of a random experiment. It can be either discrete or continuous."
      ],
      "metadata": {
        "id": "s15rzQ6HdlnC"
      }
    },
    {
      "cell_type": "markdown",
      "source": [
        "Question 2. What are the types of random variables?\n",
        "\n",
        "Answer. There are two main types of random variables:\n",
        "\n",
        "Discrete Random Variable – Takes on countable values (e.g., the number of heads in coin flips).\n",
        "\n",
        "Continuous Random Variable – Takes on any value within a range (e.g., height, weight)."
      ],
      "metadata": {
        "id": "u5GEtcphdlp8"
      }
    },
    {
      "cell_type": "markdown",
      "source": [
        "Question 3. What is the difference between discrete and continuous distributions?\n",
        "\n",
        "Answer.\n",
        "\n",
        "Discrete Distribution deals with countable outcomes (e.g., binomial, Poisson distributions).\n",
        "\n",
        "Continuous Distribution deals with uncountable outcomes (e.g., normal, exponential distributions)."
      ],
      "metadata": {
        "id": "lgmFEvzZdls_"
      }
    },
    {
      "cell_type": "markdown",
      "source": [
        "Question 4. What are probability distribution functions (PDF)?\n",
        "\n",
        "Answer. A probability distribution function describes the likelihood of different outcomes for a random variable.\n",
        "\n",
        "For discrete variables, it is called the probability mass function (PMF).\n",
        "\n",
        "For continuous variables, it is the probability density function (PDF)."
      ],
      "metadata": {
        "id": "79Lyxmmqdlv9"
      }
    },
    {
      "cell_type": "markdown",
      "source": [
        "Question 5. How do cumulative distribution functions (CDF) differ from probability distribution functions (PDF)?\n",
        "\n",
        "Answer.\n",
        "\n",
        "PDF (Probability Density Function) gives the probability of a specific value occurring.\n",
        "\n",
        "CDF (Cumulative Distribution Function) gives the probability that the variable takes a value less than or equal to a given number."
      ],
      "metadata": {
        "id": "oomg4P8odlzB"
      }
    },
    {
      "cell_type": "markdown",
      "source": [
        "Question 6. What is a discrete uniform distribution?\n",
        "\n",
        "Answer. A discrete uniform distribution is one in which all possible outcomes have an equal probability (e.g., rolling a fair die where each face has a 1/6 probability).\n",
        "\n"
      ],
      "metadata": {
        "id": "nvJ0v81_dl2N"
      }
    },
    {
      "cell_type": "markdown",
      "source": [
        "Question 7. What are the key properties of a Bernoulli distribution?\n",
        "\n",
        "Answer. A Bernoulli distribution has two possible outcomes (success or failure) with probabilities p and 1 - p, respectively. It is used for experiments with binary outcomes (e.g., flipping a coin).\n",
        "\n"
      ],
      "metadata": {
        "id": "MQxEKNpcdl5p"
      }
    },
    {
      "cell_type": "markdown",
      "source": [
        "Question 8. What is the binomial distribution, and how is it used in probability?\n",
        "\n",
        "Answer. The binomial distribution describes the number of successes in a fixed number of independent trials, each with the same probability of success. It is used in experiments where outcomes are either success or failure."
      ],
      "metadata": {
        "id": "N7WYx9b1dl9U"
      }
    },
    {
      "cell_type": "markdown",
      "source": [
        "Question 9. What is the Poisson distribution and where is it applied?\n",
        "\n",
        "Answer. The Poisson distribution models the probability of a given number of events occurring in a fixed interval of time or space when events occur independently. It is used in modeling rare events, such as customer arrivals or radioactive decay."
      ],
      "metadata": {
        "id": "WSX80--3dmBy"
      }
    },
    {
      "cell_type": "markdown",
      "source": [
        "Question 10. What is a continuous uniform distribution?\n",
        "\n",
        "Answer. A continuous uniform distribution is a probability distribution where all outcomes in a certain range are equally likely. Example: The probability of randomly selecting a number between 0 and 1."
      ],
      "metadata": {
        "id": "ICKGb08fdmEs"
      }
    },
    {
      "cell_type": "markdown",
      "source": [
        "Question 11. What are the characteristics of a normal distribution?\n",
        "\n",
        "Answer. A normal distribution has:\n",
        "\n",
        "A bell-shaped curve.\n",
        "\n",
        "A mean, median, and mode that are equal.\n",
        "\n",
        "Symmetry around the mean.\n",
        "\n",
        "Defined by mean (μ) and standard deviation (σ).\n",
        "\n"
      ],
      "metadata": {
        "id": "oVEiTV9_dmHt"
      }
    },
    {
      "cell_type": "markdown",
      "source": [
        "Question 12. What is the standard normal distribution, and why is it important?\n",
        "\n",
        "Answer. The standard normal distribution is a normal distribution with mean 0 and standard deviation 1. It is used to standardize data and compare different datasets."
      ],
      "metadata": {
        "id": "D88dFfE0dmKt"
      }
    },
    {
      "cell_type": "markdown",
      "source": [
        "Question 13. What is the Central Limit Theorem (CLT), and why is it critical in statistics?\n",
        "\n",
        "Answer. The CLT states that the sampling distribution of the sample mean approaches a normal distribution as the sample size increases, regardless of the original distribution. It is critical because it allows statistical inference."
      ],
      "metadata": {
        "id": "96D_RaDWdmN3"
      }
    },
    {
      "cell_type": "markdown",
      "source": [
        "Question 14. How does the Central Limit Theorem relate to the normal distribution?\n",
        "\n",
        "Answer. The CLT explains why many distributions approximate normality when sampling repeatedly, allowing normal distribution-based statistical methods.\n",
        "\n"
      ],
      "metadata": {
        "id": "1q6Z7ZOTdmQs"
      }
    },
    {
      "cell_type": "markdown",
      "source": [
        "Question 15. What is the application of Z statistics in hypothesis testing?\n",
        "\n",
        "Answer. Z statistics are used for hypothesis testing in large samples when the population variance is known. It helps determine whether a sample mean significantly differs from a population mean."
      ],
      "metadata": {
        "id": "QACjd0d7dmUH"
      }
    },
    {
      "cell_type": "markdown",
      "source": [
        "Question 16. How do you calculate a Z-score, and what does it represent?\n",
        "\n",
        "Answer. A Z-score is calculated as:\n",
        "\n",
        "𝑍\n",
        "=\n",
        "𝑋\n",
        "−\n",
        "𝜇\n",
        "𝜎\n",
        "Z=\n",
        "σ\n",
        "X−μ\n",
        "​\n",
        "\n",
        "where\n",
        "𝑋\n",
        "X is a data point,\n",
        "𝜇\n",
        "μ is the mean, and\n",
        "𝜎\n",
        "σ is the standard deviation. It represents how many standard deviations a value is from the mean."
      ],
      "metadata": {
        "id": "vHo3iv4XdmXK"
      }
    },
    {
      "cell_type": "markdown",
      "source": [
        "Question 17. What are point estimates and interval estimates in statistics?\n",
        "\n",
        "Answer.\n",
        "\n",
        "Point Estimate: A single value estimate of a population parameter (e.g., sample mean).\n",
        "\n",
        "Interval Estimate: A range of values (confidence interval) within which the population parameter is likely to fall."
      ],
      "metadata": {
        "id": "4CPkLoE5dmaX"
      }
    },
    {
      "cell_type": "markdown",
      "source": [
        "Question 18. What is the significance of confidence intervals in statistical analysis?\n",
        "\n",
        "Answer. Confidence intervals provide a range of values within which a population parameter is expected to lie with a certain level of confidence (e.g., 95% confidence interval)."
      ],
      "metadata": {
        "id": "cs6efNIkdmdf"
      }
    },
    {
      "cell_type": "markdown",
      "source": [
        "Question 19. What is the relationship between a Z-score and a confidence interval?\n",
        "\n",
        "Answer. The Z-score is used to determine the margin of error in confidence intervals. A higher Z-score leads to a wider confidence interval, indicating more certainty."
      ],
      "metadata": {
        "id": "b8gTmAu2dmg0"
      }
    },
    {
      "cell_type": "markdown",
      "source": [
        "Question 20. How are Z-scores used to compare different distributions?\n",
        "\n",
        "Answer. Z-scores standardize data, allowing comparison of values from different distributions by measuring how far each value is from its respective mean."
      ],
      "metadata": {
        "id": "oCNW89Nvdmjz"
      }
    },
    {
      "cell_type": "markdown",
      "source": [
        "Question 21. What are the assumptions for applying the Central Limit Theorem?\n",
        "\n",
        "Answer.\n",
        "\n",
        "The sample size should be sufficiently large (typically\n",
        "𝑛\n",
        "≥\n",
        "30\n",
        "n≥30).\n",
        "\n",
        "Samples should be independent.\n",
        "\n",
        "The population should not be heavily skewed."
      ],
      "metadata": {
        "id": "ahp5062SdmnV"
      }
    },
    {
      "cell_type": "markdown",
      "source": [
        "Question 22. What is the concept of expected value in a probability distribution?\n",
        "\n",
        "Answer. The expected value (mean) of a probability distribution is the long-run average outcome of a random variable. It is calculated as:\n",
        "\n",
        "𝐸\n",
        "(\n",
        "𝑋\n",
        ")\n",
        "=\n",
        "∑\n",
        "𝑋\n",
        "𝑃\n",
        "(\n",
        "𝑋\n",
        ")\n",
        "(\n",
        "for discrete variables\n",
        ")\n",
        "E(X)=∑XP(X)(for discrete variables)\n",
        "or\n",
        "\n",
        "𝐸\n",
        "(\n",
        "𝑋\n",
        ")\n",
        "=\n",
        "∫\n",
        "𝑥\n",
        "𝑓\n",
        "(\n",
        "𝑥\n",
        ")\n",
        "𝑑\n",
        "𝑥\n",
        "(\n",
        "for continuous variables\n",
        ")\n",
        "E(X)=∫xf(x)dx(for continuous variables)"
      ],
      "metadata": {
        "id": "PZeitEPZdmqT"
      }
    },
    {
      "cell_type": "markdown",
      "source": [
        "Question 23. How does a probability distribution relate to the expected outcome of a random variable?\n",
        "\n",
        "Answer. A probability distribution defines the likelihood of different outcomes, and the expected value is the weighted average of those outcomes based on their probabilities."
      ],
      "metadata": {
        "id": "SSgQATkZdmto"
      }
    }
  ]
}