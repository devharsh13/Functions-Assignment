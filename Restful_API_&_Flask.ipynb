{
  "nbformat": 4,
  "nbformat_minor": 0,
  "metadata": {
    "colab": {
      "provenance": []
    },
    "kernelspec": {
      "name": "python3",
      "display_name": "Python 3"
    },
    "language_info": {
      "name": "python"
    }
  },
  "cells": [
    {
      "cell_type": "markdown",
      "source": [
        "## Theoritical Questions\n"
      ],
      "metadata": {
        "id": "dza6L7S3G1XW"
      }
    },
    {
      "cell_type": "markdown",
      "source": [
        "Question 1. What is a RESTful API ?\n",
        "\n",
        "Answer.  A RESTful API (Representational State Transfer API) is a web service that follows REST principles. It uses HTTP methods like GET, POST, PUT, and DELETE to interact with resources, making APIs scalable and stateless."
      ],
      "metadata": {
        "id": "QvjdiYgEG1b6"
      }
    },
    {
      "cell_type": "markdown",
      "source": [
        "Question 2. Explain the concept of API specification ?\n",
        "\n",
        "Answer. An API specification defines the structure of an API, including available endpoints, request/response formats, authentication methods, and error handling. Examples include OpenAPI and Swagger.\n",
        "\n"
      ],
      "metadata": {
        "id": "Y20Wn7YrG1e6"
      }
    },
    {
      "cell_type": "markdown",
      "source": [
        "Question 3. What is Flask, and why is it popular for building APIs ?\n",
        "\n",
        "Answer. Flask is a lightweight and flexible Python web framework used to build web applications and APIs. It is popular because of its simplicity, extensibility, and support for RESTful API development.\n",
        "\n"
      ],
      "metadata": {
        "id": "GZwfWtrnG1iO"
      }
    },
    {
      "cell_type": "markdown",
      "source": [
        "Question 4. What is routing in Flask ?\n",
        "\n",
        "Answer. Routing in Flask maps URLs to functions, defining how different endpoints respond to HTTP requests. It is implemented using the @app.route() decorator.\n",
        "\n"
      ],
      "metadata": {
        "id": "wZUgiVMrG1nn"
      }
    },
    {
      "cell_type": "markdown",
      "source": [
        "Question 5.  How do you create a simple Flask application ?\n",
        "\n",
        "Answer. from flask import Flask\n",
        "\n",
        "app = Flask(__name__)\n",
        "\n",
        "@app.route('/')\n",
        "def home():\n",
        "    return \"Hello, Flask!\"\n",
        "\n",
        "if __name__ == '__main__':\n",
        "    app.run(debug=True)\n"
      ],
      "metadata": {
        "id": "PMckmIw1G1sD"
      }
    },
    {
      "cell_type": "markdown",
      "source": [
        "Question 6. What are HTTP methods used in RESTful APIs ?\n",
        "\n",
        "Answer. Common HTTP methods are:\n",
        "\n",
        "GET – Retrieve data\n",
        "\n",
        "POST – Create new data\n",
        "\n",
        "PUT – Update existing data\n",
        "\n",
        "DELETE – Remove data\n",
        "\n",
        "PATCH – Partially update data"
      ],
      "metadata": {
        "id": "O_Q9kafhG1v8"
      }
    },
    {
      "cell_type": "markdown",
      "source": [
        "Question 7. What is the purpose of the @app.route() decorator in Flask ?\n",
        "\n",
        "Answer. The @app.route() decorator binds a URL to a specific function, enabling Flask to handle HTTP requests for that route.\n",
        "\n"
      ],
      "metadata": {
        "id": "3XwD6ra_G10O"
      }
    },
    {
      "cell_type": "markdown",
      "source": [
        "Question 8. What is the difference between GET and POST HTTP methods ?\n",
        "\n",
        "Answer. GET is used to retrieve data, and parameters are sent in the URL.\n",
        "\n",
        "POST is used to send data to the server in the request body and is more secure for sensitive data."
      ],
      "metadata": {
        "id": "feeuOaUKG13T"
      }
    },
    {
      "cell_type": "markdown",
      "source": [
        "9. How do you handle errors in Flask APIs?\n",
        "\n",
        "Answer. Use Flask's error handlers:\n",
        "\n",
        "python\n",
        "Copy\n",
        "Edit\n",
        "from flask import Flask, jsonify\n",
        "\n",
        "app = Flask(__name__)\n",
        "\n",
        "@app.errorhandler(404)\n",
        "def not_found(error):\n",
        "    return jsonify({\"error\": \"Not Found\"}), 404"
      ],
      "metadata": {
        "id": "wZOYXJvoG16e"
      }
    },
    {
      "cell_type": "markdown",
      "source": [
        "10. How do you connect Flask to a SQL database?\n",
        "Answer. Using Flask-SQLAlchemy:\n",
        "\n",
        "python\n",
        "Copy\n",
        "Edit\n",
        "from flask_sqlalchemy import SQLAlchemy\n",
        "\n",
        "app.config['SQLALCHEMY_DATABASE_URI'] = 'sqlite:///database.db'\n",
        "db = SQLAlchemy(app)"
      ],
      "metadata": {
        "id": "FyrabMhFG1-S"
      }
    },
    {
      "cell_type": "markdown",
      "source": [
        "11. What is the role of Flask-SQLAlchemy?\n",
        "\n",
        "Answer. Flask-SQLAlchemy is an ORM (Object Relational Mapper) that simplifies database interactions using Python objects."
      ],
      "metadata": {
        "id": "HDfoEa19G2B3"
      }
    },
    {
      "cell_type": "markdown",
      "source": [
        "12. What are Flask blueprints, and how are they useful?\n",
        "\n",
        "Answer. Blueprints help structure large applications by grouping routes into separate modules. Example:\n",
        "\n",
        "python\n",
        "Copy\n",
        "Edit\n",
        "from flask import Blueprint\n",
        "\n",
        "api = Blueprint('api', __name__)\n",
        "\n",
        "@api.route('/hello')\n",
        "def hello():\n",
        "    return \"Hello from API Blueprint\""
      ],
      "metadata": {
        "id": "bBLWlu9wH5W8"
      }
    },
    {
      "cell_type": "markdown",
      "source": [
        "13. What is the purpose of Flask's request object?\n",
        "\n",
        "Answer. The request object in Flask is used to access incoming request data, such as form data, JSON payloads, and query parameters."
      ],
      "metadata": {
        "id": "yg9czsd9H7tc"
      }
    },
    {
      "cell_type": "markdown",
      "source": [
        "14. How do you create a RESTful API endpoint using Flask?\n",
        "\n",
        "Answer.\n",
        "\n",
        "python\n",
        "Copy\n",
        "Edit\n",
        "from flask import Flask, jsonify\n",
        "\n",
        "app = Flask(__name__)\n",
        "\n",
        "@app.route('/api/data', methods=['GET'])\n",
        "def get_data():\n",
        "    return jsonify({\"message\": \"Hello, API\"})\n",
        "\n",
        "if __name__ == '__main__':\n",
        "    app.run(debug=True)"
      ],
      "metadata": {
        "id": "TUbqMD8-H7qi"
      }
    },
    {
      "cell_type": "markdown",
      "source": [
        "15. What is the purpose of Flask’s jsonify() function?\n",
        "\n",
        "Answer. The jsonify() function converts Python dictionaries into properly formatted JSON responses."
      ],
      "metadata": {
        "id": "LRF7Qe-wH7nt"
      }
    },
    {
      "cell_type": "markdown",
      "source": [
        "16. Explain Flask's url_for() function.\n",
        "\n",
        "Answer. url_for() generates dynamic URLs for a given function, making applications more maintainable:\n",
        "\n",
        "python\n",
        "Copy\n",
        "Edit\n",
        "from flask import Flask, url_for\n",
        "\n",
        "@app.route('/user/<username>')\n",
        "def profile(username):\n",
        "    return f\"User: {username}\"\n",
        "\n",
        "with app.test_request_context():\n",
        "    print(url_for('profile', username='John'))"
      ],
      "metadata": {
        "id": "fsQJxfIHH7ju"
      }
    },
    {
      "cell_type": "markdown",
      "source": [
        "17. How does Flask handle static files (CSS, JavaScript, etc.)?\n",
        "\n",
        "Answer. Flask serves static files from the static folder using /static/ as the default URL prefix."
      ],
      "metadata": {
        "id": "rsxp_L4EH7gA"
      }
    },
    {
      "cell_type": "markdown",
      "source": [
        "18. What is an API specification, and how does it help in building a Flask API?\n",
        "\n",
        "Answer. An API specification defines how an API should function, helping developers maintain consistency. OpenAPI and Swagger are commonly used tools."
      ],
      "metadata": {
        "id": "vseqZdOQH7cw"
      }
    },
    {
      "cell_type": "markdown",
      "source": [
        "19. What are HTTP status codes, and why are they important in a Flask API?\n",
        "\n",
        "Answer. HTTP status codes indicate the outcome of requests:\n",
        "\n",
        "200 OK – Successful request\n",
        "\n",
        "201 Created – New resource created\n",
        "\n",
        "400 Bad Request – Client error\n",
        "\n",
        "404 Not Found – Resource not found\n",
        "\n",
        "500 Internal Server Error – Server issue"
      ],
      "metadata": {
        "id": "xiHYZbdJH7Zu"
      }
    },
    {
      "cell_type": "markdown",
      "source": [
        "20. How do you handle POST requests in Flask?\n",
        "\n",
        "Answer.\n",
        "\n",
        "python\n",
        "Copy\n",
        "Edit\n",
        "from flask import Flask, request, jsonify\n",
        "\n",
        "app = Flask(__name__)\n",
        "\n",
        "@app.route('/submit', methods=['POST'])\n",
        "def submit():\n",
        "    data = request.json\n",
        "    return jsonify({\"message\": \"Received\", \"data\": data})\n",
        "\n",
        "if __name__ == '__main__':\n",
        "    app.run(debug=True)"
      ],
      "metadata": {
        "id": "oNs1XAm0H7W6"
      }
    },
    {
      "cell_type": "markdown",
      "source": [
        "21. How would you secure a Flask API?\n",
        "\n",
        "Answer.\n",
        "\n",
        "Use JWT authentication for secure login.\n",
        "\n",
        "Implement rate limiting with Flask-Limiter.\n",
        "\n",
        "Enable CORS protection with Flask-CORS.\n",
        "\n",
        "Validate input data to prevent SQL injection."
      ],
      "metadata": {
        "id": "DZ-spSgkH7Rv"
      }
    },
    {
      "cell_type": "markdown",
      "source": [
        "22. What is the significance of the Flask-RESTful extension?\n",
        "\n",
        "Answer. Flask-RESTful simplifies API development by adding features like resource-based routing, request parsing, and automated responses."
      ],
      "metadata": {
        "id": "FHg8P203H7L-"
      }
    },
    {
      "cell_type": "markdown",
      "source": [
        "23. What is the role of Flask’s session object?\n",
        "\n",
        "Answer. The session object stores user data between requests using signed cookies:\n",
        "\n",
        "python\n",
        "Copy\n",
        "Edit\n",
        "from flask import Flask, session\n",
        "\n",
        "app.secret_key = 'mysecret'\n",
        "\n",
        "@app.route('/set_session')\n",
        "def set_session():\n",
        "    session['username'] = 'John'\n",
        "    return \"Session set\"\n",
        "\n",
        "@app.route('/get_session')\n",
        "def get_session():\n",
        "    return session.get('username', 'No session found')"
      ],
      "metadata": {
        "id": "uog7vjQ7H7IB"
      }
    },
    {
      "cell_type": "markdown",
      "source": [
        "## Practical Question"
      ],
      "metadata": {
        "id": "h2zK8osabnS_"
      }
    },
    {
      "cell_type": "code",
      "source": [
        "## Question 1. How do you create a basic Flask application?\n",
        "from flask import Flask\n",
        "\n",
        "app = Flask(__name__)\n",
        "\n",
        "@app.route('/')\n",
        "def home():\n",
        "    return \"Hello, Flask!\"\n",
        "\n",
        "if __name__ == '__main__':\n",
        "    app.run(debug=True)\n"
      ],
      "metadata": {
        "id": "6pIuwAchbsUV"
      },
      "execution_count": null,
      "outputs": []
    },
    {
      "cell_type": "code",
      "source": [
        "# Question 2. How do you serve static files like images or CSS in Flask?\n",
        "#Flask serves static files from the static directory. You can place your images, CSS, and JavaScript files inside the static folder and reference them in templates like this:\n",
        "<link rel=\"stylesheet\" href=\"{{ url_for('static', filename='style.css') }}\">\n",
        "<img src=\"{{ url_for('static', filename='image.png') }}\" alt=\"Image\">\n"
      ],
      "metadata": {
        "id": "qvUNldTWbsXU"
      },
      "execution_count": null,
      "outputs": []
    },
    {
      "cell_type": "code",
      "source": [
        "#Question 3. How do you define different routes with different HTTP methods in Flask?\n",
        "from flask import Flask, request\n",
        "\n",
        "app = Flask(__name__)\n",
        "\n",
        "@app.route('/get', methods=['GET'])\n",
        "def get_method():\n",
        "    return \"This is a GET request\"\n",
        "\n",
        "@app.route('/post', methods=['POST'])\n",
        "def post_method():\n",
        "    return \"This is a POST request\"\n",
        "\n",
        "if __name__ == '__main__':\n",
        "    app.run(debug=True)\n"
      ],
      "metadata": {
        "id": "GiOvvbUIbsQz"
      },
      "execution_count": null,
      "outputs": []
    },
    {
      "cell_type": "code",
      "source": [
        "#Question 4. How do you render HTML templates in Flask?\n",
        "from flask import Flask, render_template\n",
        "\n",
        "app = Flask(__name__)\n",
        "\n",
        "@app.route('/')\n",
        "def home():\n",
        "    return render_template('index.html')\n",
        "\n",
        "if __name__ == '__main__':\n",
        "    app.run(debug=True)\n"
      ],
      "metadata": {
        "id": "tKsS7ODvbsNk"
      },
      "execution_count": null,
      "outputs": []
    },
    {
      "cell_type": "code",
      "source": [
        "#Question 5. How can you generate URLs for routes in Flask using url_for()?\n",
        "from flask import Flask, url_for\n",
        "\n",
        "app = Flask(__name__)\n",
        "\n",
        "@app.route('/profile/<username>')\n",
        "def profile(username):\n",
        "    return f\"Profile page of {username}\"\n",
        "\n",
        "with app.test_request_context():\n",
        "    print(url_for('profile', username='John'))\n"
      ],
      "metadata": {
        "id": "66hic9LabsKZ"
      },
      "execution_count": null,
      "outputs": []
    },
    {
      "cell_type": "code",
      "source": [
        "#Question 6. How do you handle forms in Flask?\n",
        "from flask import Flask, request, render_template\n",
        "\n",
        "app = Flask(__name__)\n",
        "\n",
        "@app.route('/', methods=['GET', 'POST'])\n",
        "def form_example():\n",
        "    if request.method == 'POST':\n",
        "        name = request.form['name']\n",
        "        return f'Hello, {name}!'\n",
        "    return render_template('form.html')\n",
        "\n",
        "if __name__ == '__main__':\n",
        "    app.run(debug=True)\n"
      ],
      "metadata": {
        "id": "cM75nXFIbsHg"
      },
      "execution_count": null,
      "outputs": []
    },
    {
      "cell_type": "code",
      "source": [
        "#Question 7. How can you validate form data in Flask?\n",
        "from flask_wtf import FlaskForm\n",
        "from wtforms import StringField, SubmitField\n",
        "from wtforms.validators import DataRequired\n",
        "\n",
        "class MyForm(FlaskForm):\n",
        "    name = StringField('Name', validators=[DataRequired()])\n",
        "    submit = SubmitField('Submit')\n"
      ],
      "metadata": {
        "id": "0r7iPuKmbsEH"
      },
      "execution_count": null,
      "outputs": []
    },
    {
      "cell_type": "code",
      "source": [
        "#Question 8. How do you manage sessions in Flask?\n",
        "from flask import Flask, session\n",
        "\n",
        "app = Flask(__name__)\n",
        "app.secret_key = 'supersecretkey'\n",
        "\n",
        "@app.route('/set_session')\n",
        "def set_session():\n",
        "    session['username'] = 'John'\n",
        "    return \"Session set!\"\n",
        "\n",
        "@app.route('/get_session')\n",
        "def get_session():\n",
        "    return session.get('username', 'No session found')\n",
        "\n",
        "if __name__ == '__main__':\n",
        "    app.run(debug=True)\n"
      ],
      "metadata": {
        "id": "GdYU-qSnbr9F"
      },
      "execution_count": null,
      "outputs": []
    },
    {
      "cell_type": "code",
      "source": [
        "#Question 9. How do you redirect to a different route in Flask?\n",
        "from flask import Flask, redirect, url_for\n",
        "\n",
        "app = Flask(__name__)\n",
        "\n",
        "@app.route('/')\n",
        "def home():\n",
        "    return redirect(url_for('profile', username='John'))\n",
        "\n",
        "@app.route('/profile/<username>')\n",
        "def profile(username):\n",
        "    return f\"Profile page of {username}\"\n",
        "\n",
        "if __name__ == '__main__':\n",
        "    app.run(debug=True)\n"
      ],
      "metadata": {
        "id": "bnavYmetbr5S"
      },
      "execution_count": null,
      "outputs": []
    },
    {
      "cell_type": "code",
      "source": [
        "#Question 10. How do you handle errors in Flask (e.g., 404)?\n",
        "from flask import Flask, jsonify\n",
        "\n",
        "app = Flask(__name__)\n",
        "\n",
        "@app.errorhandler(404)\n",
        "def not_found(error):\n",
        "    return jsonify({\"error\": \"Not Found\"}), 404\n"
      ],
      "metadata": {
        "id": "jKfodQhLbr2B"
      },
      "execution_count": null,
      "outputs": []
    },
    {
      "cell_type": "code",
      "source": [
        "#Question 11. How do you structure a Flask app using Blueprints?\n",
        "from flask import Blueprint\n",
        "\n",
        "api = Blueprint('api', __name__)\n",
        "\n",
        "@api.route('/hello')\n",
        "def hello():\n",
        "    return \"Hello from API Blueprint\"\n",
        "\n",
        "app.register_blueprint(api, url_prefix='/api')\n"
      ],
      "metadata": {
        "id": "9fehz3yAbryr"
      },
      "execution_count": null,
      "outputs": []
    },
    {
      "cell_type": "code",
      "source": [
        "#Question 12. How do you define a custom Jinja filter in Flask?\n",
        "from flask import Flask\n",
        "\n",
        "app = Flask(__name__)\n",
        "\n",
        "@app.template_filter('reverse')\n",
        "def reverse_filter(s):\n",
        "    return s[::-1]\n"
      ],
      "metadata": {
        "id": "8nxNlvJ8brvh"
      },
      "execution_count": null,
      "outputs": []
    },
    {
      "cell_type": "code",
      "source": [
        "#Question 13. How can you redirect with query parameters in Flask?\n",
        "from flask import Flask, redirect, url_for\n",
        "\n",
        "app = Flask(__name__)\n",
        "\n",
        "@app.route('/redirect')\n",
        "def redirect_with_params():\n",
        "    return redirect(url_for('profile', username='John', age=30))\n",
        "\n",
        "@app.route('/profile/<username>')\n",
        "def profile(username):\n",
        "    return f\"Profile page of {username}\"\n",
        "\n",
        "if __name__ == '__main__':\n",
        "    app.run(debug=True)\n"
      ],
      "metadata": {
        "id": "RRCu-4u_dGEN"
      },
      "execution_count": null,
      "outputs": []
    },
    {
      "cell_type": "code",
      "source": [
        "#Question 14. How do you return JSON responses in Flask?\n",
        "from flask import Flask, jsonify\n",
        "\n",
        "app = Flask(__name__)\n",
        "\n",
        "@app.route('/api/data')\n",
        "def get_data():\n",
        "    return jsonify({\"message\": \"Hello, API\"})\n",
        "\n",
        "if __name__ == '__main__':\n",
        "    app.run(debug=True)\n"
      ],
      "metadata": {
        "id": "cRqfZ1tldKZo"
      },
      "execution_count": null,
      "outputs": []
    },
    {
      "cell_type": "code",
      "source": [
        "#Question 15. How do you capture URL parameters in Flask?\n",
        "from flask import Flask\n",
        "\n",
        "app = Flask(__name__)\n",
        "\n",
        "@app.route('/user/<username>')\n",
        "def show_user(username):\n",
        "    return f\"User: {username}\"\n",
        "\n",
        "if __name__ == '__main__':\n",
        "    app.run(debug=True)\n"
      ],
      "metadata": {
        "id": "eXVoeuksdOQ3"
      },
      "execution_count": null,
      "outputs": []
    }
  ]
}